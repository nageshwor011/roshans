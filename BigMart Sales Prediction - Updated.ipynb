{
 "cells": [
  {
   "cell_type": "code",
   "execution_count": 3,
   "id": "c20167d7",
   "metadata": {},
   "outputs": [
    {
     "name": "stdout",
     "output_type": "stream",
     "text": [
      "Requirement already satisfied: pandas in c:\\programdata\\anaconda3\\lib\\site-packages (1.3.4)\n",
      "Requirement already satisfied: numpy in c:\\programdata\\anaconda3\\lib\\site-packages (1.20.3)\n",
      "Requirement already satisfied: seaborn in c:\\programdata\\anaconda3\\lib\\site-packages (0.11.2)\n",
      "Requirement already satisfied: matplotlib in c:\\programdata\\anaconda3\\lib\\site-packages (3.4.3)\n",
      "Requirement already satisfied: klib in c:\\programdata\\anaconda3\\lib\\site-packages (1.0.1)\n",
      "Collecting dtale\n",
      "  Using cached dtale-2.2.0-py2.py3-none-any.whl (12.7 MB)\n",
      "Requirement already satisfied: scikit-learn in c:\\programdata\\anaconda3\\lib\\site-packages (0.24.2)\n",
      "Requirement already satisfied: joblib in c:\\programdata\\anaconda3\\lib\\site-packages (1.1.0)\n",
      "Collecting pandas-profiling\n",
      "  Using cached pandas_profiling-3.1.0-py2.py3-none-any.whl (261 kB)\n",
      "Requirement already satisfied: xgboost in c:\\programdata\\anaconda3\\lib\\site-packages (1.5.2)\n",
      "Requirement already satisfied: pytz>=2017.3 in c:\\programdata\\anaconda3\\lib\\site-packages (from pandas) (2021.3)\n",
      "Requirement already satisfied: python-dateutil>=2.7.3 in c:\\programdata\\anaconda3\\lib\\site-packages (from pandas) (2.8.2)\n",
      "Requirement already satisfied: scipy>=1.0 in c:\\programdata\\anaconda3\\lib\\site-packages (from seaborn) (1.7.1)\n",
      "Requirement already satisfied: cycler>=0.10 in c:\\programdata\\anaconda3\\lib\\site-packages (from matplotlib) (0.10.0)\n",
      "Requirement already satisfied: pillow>=6.2.0 in c:\\programdata\\anaconda3\\lib\\site-packages (from matplotlib) (8.4.0)\n",
      "Requirement already satisfied: pyparsing>=2.2.1 in c:\\programdata\\anaconda3\\lib\\site-packages (from matplotlib) (3.0.4)\n",
      "Requirement already satisfied: kiwisolver>=1.0.1 in c:\\programdata\\anaconda3\\lib\\site-packages (from matplotlib) (1.3.1)\n",
      "Collecting Jinja2<4.0.0,>=3.0.3\n",
      "  Using cached Jinja2-3.1.1-py3-none-any.whl (132 kB)\n",
      "Requirement already satisfied: statsmodels in c:\\programdata\\anaconda3\\lib\\site-packages (from dtale) (0.12.2)\n",
      "Collecting squarify\n",
      "  Using cached squarify-0.4.3-py3-none-any.whl (4.3 kB)\n",
      "Collecting dash-daq\n",
      "  Using cached dash_daq-0.5.0-py3-none-any.whl\n",
      "Requirement already satisfied: networkx in c:\\programdata\\anaconda3\\lib\\site-packages (from dtale) (2.6.3)\n",
      "Requirement already satisfied: et-xmlfile in c:\\programdata\\anaconda3\\lib\\site-packages (from dtale) (1.1.0)\n"
     ]
    },
    {
     "name": "stderr",
     "output_type": "stream",
     "text": [
      "WARNING: Ignoring invalid distribution -rkupsafe (c:\\programdata\\anaconda3\\lib\\site-packages)\n",
      "WARNING: Ignoring invalid distribution -nja2 (c:\\programdata\\anaconda3\\lib\\site-packages)\n",
      "WARNING: Ignoring invalid distribution -9rkupsafe (c:\\programdata\\anaconda3\\lib\\site-packages)\n",
      "WARNING: Ignoring invalid distribution -8rkupsafe (c:\\programdata\\anaconda3\\lib\\site-packages)\n",
      "WARNING: Ignoring invalid distribution -7rkupsafe (c:\\programdata\\anaconda3\\lib\\site-packages)\n",
      "WARNING: Ignoring invalid distribution -7nja2 (c:\\programdata\\anaconda3\\lib\\site-packages)\n",
      "WARNING: Ignoring invalid distribution -6rkupsafe (c:\\programdata\\anaconda3\\lib\\site-packages)\n",
      "WARNING: Ignoring invalid distribution -6nja2 (c:\\programdata\\anaconda3\\lib\\site-packages)\n",
      "WARNING: Ignoring invalid distribution -5rkupsafe (c:\\programdata\\anaconda3\\lib\\site-packages)\n",
      "WARNING: Ignoring invalid distribution -5nja2 (c:\\programdata\\anaconda3\\lib\\site-packages)\n",
      "WARNING: Ignoring invalid distribution -4rkupsafe (c:\\programdata\\anaconda3\\lib\\site-packages)\n",
      "WARNING: Ignoring invalid distribution -4nja2 (c:\\programdata\\anaconda3\\lib\\site-packages)\n",
      "WARNING: Ignoring invalid distribution -3rkupsafe (c:\\programdata\\anaconda3\\lib\\site-packages)\n",
      "WARNING: Ignoring invalid distribution -3nja2 (c:\\programdata\\anaconda3\\lib\\site-packages)\n",
      "WARNING: Ignoring invalid distribution -2rkupsafe (c:\\programdata\\anaconda3\\lib\\site-packages)\n",
      "WARNING: Ignoring invalid distribution -2nja2 (c:\\programdata\\anaconda3\\lib\\site-packages)\n",
      "WARNING: Ignoring invalid distribution -1rkupsafe (c:\\programdata\\anaconda3\\lib\\site-packages)\n",
      "WARNING: Ignoring invalid distribution -1nja2 (c:\\programdata\\anaconda3\\lib\\site-packages)\n",
      "WARNING: Ignoring invalid distribution -rkupsafe (c:\\programdata\\anaconda3\\lib\\site-packages)\n",
      "WARNING: Ignoring invalid distribution -0rkupsafe (c:\\programdata\\anaconda3\\lib\\site-packages)\n",
      "WARNING: Ignoring invalid distribution -raitlets (c:\\programdata\\anaconda3\\lib\\site-packages)\n",
      "WARNING: Ignoring invalid distribution -nja2 (c:\\programdata\\anaconda3\\lib\\site-packages)\n",
      "WARNING: Ignoring invalid distribution -0nja2 (c:\\programdata\\anaconda3\\lib\\site-packages)\n",
      "WARNING: Ignoring invalid distribution -inja2 (c:\\programdata\\anaconda3\\lib\\site-packages)\n",
      "WARNING: Ignoring invalid distribution - (c:\\programdata\\anaconda3\\lib\\site-packages)\n",
      "WARNING: Ignoring invalid distribution -arkupsafe (c:\\programdata\\anaconda3\\lib\\site-packages)\n",
      "WARNING: Ignoring invalid distribution -rkupsafe (c:\\programdata\\anaconda3\\lib\\site-packages)\n",
      "WARNING: Ignoring invalid distribution -nja2 (c:\\programdata\\anaconda3\\lib\\site-packages)\n",
      "WARNING: Ignoring invalid distribution -9rkupsafe (c:\\programdata\\anaconda3\\lib\\site-packages)\n",
      "WARNING: Ignoring invalid distribution -8rkupsafe (c:\\programdata\\anaconda3\\lib\\site-packages)\n",
      "WARNING: Ignoring invalid distribution -7rkupsafe (c:\\programdata\\anaconda3\\lib\\site-packages)\n",
      "WARNING: Ignoring invalid distribution -7nja2 (c:\\programdata\\anaconda3\\lib\\site-packages)\n",
      "WARNING: Ignoring invalid distribution -6rkupsafe (c:\\programdata\\anaconda3\\lib\\site-packages)\n",
      "WARNING: Ignoring invalid distribution -6nja2 (c:\\programdata\\anaconda3\\lib\\site-packages)\n",
      "WARNING: Ignoring invalid distribution -5rkupsafe (c:\\programdata\\anaconda3\\lib\\site-packages)\n",
      "WARNING: Ignoring invalid distribution -5nja2 (c:\\programdata\\anaconda3\\lib\\site-packages)\n",
      "WARNING: Ignoring invalid distribution -4rkupsafe (c:\\programdata\\anaconda3\\lib\\site-packages)\n",
      "WARNING: Ignoring invalid distribution -4nja2 (c:\\programdata\\anaconda3\\lib\\site-packages)\n",
      "WARNING: Ignoring invalid distribution -3rkupsafe (c:\\programdata\\anaconda3\\lib\\site-packages)\n",
      "WARNING: Ignoring invalid distribution -3nja2 (c:\\programdata\\anaconda3\\lib\\site-packages)\n",
      "WARNING: Ignoring invalid distribution -2rkupsafe (c:\\programdata\\anaconda3\\lib\\site-packages)\n",
      "WARNING: Ignoring invalid distribution -2nja2 (c:\\programdata\\anaconda3\\lib\\site-packages)\n",
      "WARNING: Ignoring invalid distribution -1rkupsafe (c:\\programdata\\anaconda3\\lib\\site-packages)\n",
      "WARNING: Ignoring invalid distribution -1nja2 (c:\\programdata\\anaconda3\\lib\\site-packages)\n",
      "WARNING: Ignoring invalid distribution -rkupsafe (c:\\programdata\\anaconda3\\lib\\site-packages)\n",
      "WARNING: Ignoring invalid distribution -0rkupsafe (c:\\programdata\\anaconda3\\lib\\site-packages)\n",
      "WARNING: Ignoring invalid distribution -raitlets (c:\\programdata\\anaconda3\\lib\\site-packages)\n",
      "WARNING: Ignoring invalid distribution -nja2 (c:\\programdata\\anaconda3\\lib\\site-packages)\n",
      "WARNING: Ignoring invalid distribution -0nja2 (c:\\programdata\\anaconda3\\lib\\site-packages)\n",
      "WARNING: Ignoring invalid distribution -inja2 (c:\\programdata\\anaconda3\\lib\\site-packages)\n",
      "WARNING: Ignoring invalid distribution - (c:\\programdata\\anaconda3\\lib\\site-packages)\n",
      "WARNING: Ignoring invalid distribution -arkupsafe (c:\\programdata\\anaconda3\\lib\\site-packages)\n",
      "WARNING: Ignoring invalid distribution -rkupsafe (c:\\programdata\\anaconda3\\lib\\site-packages)\n",
      "WARNING: Ignoring invalid distribution -nja2 (c:\\programdata\\anaconda3\\lib\\site-packages)\n",
      "WARNING: Ignoring invalid distribution -9rkupsafe (c:\\programdata\\anaconda3\\lib\\site-packages)\n",
      "WARNING: Ignoring invalid distribution -8rkupsafe (c:\\programdata\\anaconda3\\lib\\site-packages)\n",
      "WARNING: Ignoring invalid distribution -7rkupsafe (c:\\programdata\\anaconda3\\lib\\site-packages)\n",
      "WARNING: Ignoring invalid distribution -7nja2 (c:\\programdata\\anaconda3\\lib\\site-packages)\n",
      "WARNING: Ignoring invalid distribution -6rkupsafe (c:\\programdata\\anaconda3\\lib\\site-packages)\n",
      "WARNING: Ignoring invalid distribution -6nja2 (c:\\programdata\\anaconda3\\lib\\site-packages)\n",
      "WARNING: Ignoring invalid distribution -5rkupsafe (c:\\programdata\\anaconda3\\lib\\site-packages)\n",
      "WARNING: Ignoring invalid distribution -5nja2 (c:\\programdata\\anaconda3\\lib\\site-packages)\n",
      "WARNING: Ignoring invalid distribution -4rkupsafe (c:\\programdata\\anaconda3\\lib\\site-packages)\n",
      "WARNING: Ignoring invalid distribution -4nja2 (c:\\programdata\\anaconda3\\lib\\site-packages)\n",
      "WARNING: Ignoring invalid distribution -3rkupsafe (c:\\programdata\\anaconda3\\lib\\site-packages)\n",
      "WARNING: Ignoring invalid distribution -3nja2 (c:\\programdata\\anaconda3\\lib\\site-packages)\n",
      "WARNING: Ignoring invalid distribution -2rkupsafe (c:\\programdata\\anaconda3\\lib\\site-packages)\n",
      "WARNING: Ignoring invalid distribution -2nja2 (c:\\programdata\\anaconda3\\lib\\site-packages)\n",
      "WARNING: Ignoring invalid distribution -1rkupsafe (c:\\programdata\\anaconda3\\lib\\site-packages)\n",
      "WARNING: Ignoring invalid distribution -1nja2 (c:\\programdata\\anaconda3\\lib\\site-packages)"
     ]
    },
    {
     "name": "stdout",
     "output_type": "stream",
     "text": [
      "Collecting kaleido\n",
      "  Using cached kaleido-0.2.1-py2.py3-none-win_amd64.whl (65.9 MB)\n",
      "Collecting lz4\n",
      "  Using cached lz4-4.0.0-cp39-cp39-win_amd64.whl (96 kB)\n",
      "Collecting xarray\n",
      "  Using cached xarray-2022.3.0-py3-none-any.whl (870 kB)\n",
      "Requirement already satisfied: requests in c:\\programdata\\anaconda3\\lib\\site-packages (from dtale) (2.26.0)\n",
      "Collecting dash-colorscales\n",
      "  Using cached dash_colorscales-0.0.4-py3-none-any.whl\n",
      "Requirement already satisfied: itsdangerous in c:\\programdata\\anaconda3\\lib\\site-packages (from dtale) (2.0.1)\n",
      "Collecting strsimpy\n",
      "  Using cached strsimpy-0.2.1-py3-none-any.whl (45 kB)\n",
      "Collecting dash>=2.0.0\n",
      "  Using cached dash-2.3.1-py3-none-any.whl (9.6 MB)\n",
      "Collecting ppscore\n",
      "  Using cached ppscore-1.2.0-py2.py3-none-any.whl\n",
      "Collecting flask-ngrok\n",
      "  Using cached flask_ngrok-0.0.25-py3-none-any.whl (3.1 kB)\n",
      "Collecting missingno<=0.4.2\n",
      "  Using cached missingno-0.4.2-py3-none-any.whl (9.7 kB)\n",
      "Requirement already satisfied: Flask in c:\\programdata\\anaconda3\\lib\\site-packages (from dtale) (1.1.2)\n",
      "Requirement already satisfied: six in c:\\programdata\\anaconda3\\lib\\site-packages (from dtale) (1.16.0)\n",
      "Collecting Flask-Compress\n",
      "  Using cached Flask_Compress-1.11-py3-none-any.whl (7.9 kB)\n",
      "Collecting plotly>=5.0.0\n",
      "  Using cached plotly-5.7.0-py2.py3-none-any.whl (28.8 MB)\n",
      "Requirement already satisfied: openpyxl in c:\\programdata\\anaconda3\\lib\\site-packages (from dtale) (3.0.9)\n",
      "Collecting dash-bootstrap-components\n",
      "  Using cached dash_bootstrap_components-1.1.0-py3-none-any.whl (210 kB)\n",
      "Requirement already satisfied: xlrd in c:\\programdata\\anaconda3\\lib\\site-packages (from dtale) (2.0.1)\n",
      "Requirement already satisfied: future>=0.14.0 in c:\\programdata\\anaconda3\\lib\\site-packages (from dtale) (0.18.2)\n",
      "Requirement already satisfied: threadpoolctl>=2.0.0 in c:\\programdata\\anaconda3\\lib\\site-packages (from scikit-learn) (2.2.0)\n",
      "Collecting pydantic>=1.8.1\n",
      "  Using cached pydantic-1.9.0-cp39-cp39-win_amd64.whl (2.1 MB)\n",
      "Collecting phik>=0.11.1\n",
      "  Using cached phik-0.12.2-cp39-cp39-win_amd64.whl (685 kB)\n",
      "Requirement already satisfied: tqdm>=4.48.2 in c:\\programdata\\anaconda3\\lib\\site-packages (from pandas-profiling) (4.62.3)\n",
      "Collecting visions[type_image_path]==0.7.4\n",
      "  Using cached visions-0.7.4-py3-none-any.whl (102 kB)\n",
      "Collecting multimethod>=1.4\n",
      "  Using cached multimethod-1.8-py3-none-any.whl (9.8 kB)\n",
      "Collecting htmlmin>=0.1.12\n",
      "  Using cached htmlmin-0.1.12-py3-none-any.whl\n",
      "Requirement already satisfied: PyYAML>=5.0.0 in c:\\programdata\\anaconda3\\lib\\site-packages (from pandas-profiling) (6.0)\n",
      "Collecting tangled-up-in-unicode==0.1.0\n",
      "  Using cached tangled_up_in_unicode-0.1.0-py3-none-any.whl (3.1 MB)\n",
      "Collecting joblib\n",
      "  Using cached joblib-1.0.1-py3-none-any.whl (303 kB)\n",
      "Requirement already satisfied: markupsafe~=2.0.1 in c:\\programdata\\anaconda3\\lib\\site-packages (from pandas-profiling) (2.0.1)\n",
      "Requirement already satisfied: attrs>=19.3.0 in c:\\programdata\\anaconda3\\lib\\site-packages (from visions[type_image_path]==0.7.4->pandas-profiling) (21.2.0)\n",
      "Collecting imagehash\n",
      "  Using cached ImageHash-4.2.1-py2.py3-none-any.whl\n",
      "Collecting dash-table==5.0.0\n",
      "  Using cached dash_table-5.0.0-py3-none-any.whl (3.9 kB)\n",
      "Collecting dash-html-components==2.0.0\n",
      "  Using cached dash_html_components-2.0.0-py3-none-any.whl (4.1 kB)\n",
      "Collecting dash-core-components==2.0.0\n",
      "  Using cached dash_core_components-2.0.0-py3-none-any.whl (3.8 kB)\n",
      "Requirement already satisfied: Werkzeug>=0.15 in c:\\programdata\\anaconda3\\lib\\site-packages (from Flask->dtale) (2.0.2)\n",
      "Requirement already satisfied: click>=5.1 in c:\\programdata\\anaconda3\\lib\\site-packages (from Flask->dtale) (8.0.3)\n",
      "Requirement already satisfied: colorama in c:\\programdata\\anaconda3\\lib\\site-packages (from click>=5.1->Flask->dtale) (0.4.4)\n",
      "Collecting tenacity>=6.2.0\n",
      "  Using cached tenacity-8.0.1-py3-none-any.whl (24 kB)\n",
      "Requirement already satisfied: typing-extensions>=3.7.4.3 in c:\\programdata\\anaconda3\\lib\\site-packages (from pydantic>=1.8.1->pandas-profiling) (3.10.0.2)\n",
      "Requirement already satisfied: idna<4,>=2.5 in c:\\programdata\\anaconda3\\lib\\site-packages (from requests->dtale) (3.2)\n",
      "Requirement already satisfied: urllib3<1.27,>=1.21.1 in c:\\programdata\\anaconda3\\lib\\site-packages (from requests->dtale) (1.26.7)\n",
      "Requirement already satisfied: charset-normalizer~=2.0.0 in c:\\programdata\\anaconda3\\lib\\site-packages (from requests->dtale) (2.0.4)\n",
      "Requirement already satisfied: certifi>=2017.4.17 in c:\\programdata\\anaconda3\\lib\\site-packages (from requests->dtale) (2021.10.8)\n",
      "Collecting brotli\n",
      "  Using cached Brotli-1.0.9-cp39-cp39-win_amd64.whl (383 kB)\n",
      "Requirement already satisfied: PyWavelets in c:\\programdata\\anaconda3\\lib\\site-packages (from imagehash->visions[type_image_path]==0.7.4->pandas-profiling) (1.1.1)\n",
      "Requirement already satisfied: patsy>=0.5 in c:\\programdata\\anaconda3\\lib\\site-packages (from statsmodels->dtale) (0.5.2)\n",
      "Requirement already satisfied: packaging>=20.0 in c:\\programdata\\anaconda3\\lib\\site-packages (from xarray->dtale) (21.0)\n",
      "Installing collected packages: Jinja2, tenacity, brotli, tangled-up-in-unicode, plotly, multimethod, joblib, Flask-Compress, dash-table, dash-html-components, dash-core-components, visions, imagehash, dash, xarray, strsimpy, squarify, pydantic, ppscore, phik, missingno, lz4, kaleido, htmlmin, flask-ngrok, dash-daq, dash-colorscales, dash-bootstrap-components, pandas-profiling, dtale\n",
      "  Attempting uninstall: Jinja2\n",
      "    Found existing installation: Jinja2 2.11.3\n",
      "    Uninstalling Jinja2-2.11.3:\n"
     ]
    },
    {
     "name": "stderr",
     "output_type": "stream",
     "text": [
      "\n",
      "WARNING: Ignoring invalid distribution -rkupsafe (c:\\programdata\\anaconda3\\lib\\site-packages)\n",
      "WARNING: Ignoring invalid distribution -0rkupsafe (c:\\programdata\\anaconda3\\lib\\site-packages)\n",
      "WARNING: Ignoring invalid distribution -raitlets (c:\\programdata\\anaconda3\\lib\\site-packages)\n",
      "WARNING: Ignoring invalid distribution -nja2 (c:\\programdata\\anaconda3\\lib\\site-packages)\n",
      "WARNING: Ignoring invalid distribution -0nja2 (c:\\programdata\\anaconda3\\lib\\site-packages)\n",
      "WARNING: Ignoring invalid distribution -inja2 (c:\\programdata\\anaconda3\\lib\\site-packages)\n",
      "WARNING: Ignoring invalid distribution - (c:\\programdata\\anaconda3\\lib\\site-packages)\n",
      "WARNING: Ignoring invalid distribution -arkupsafe (c:\\programdata\\anaconda3\\lib\\site-packages)\n",
      "    WARNING: Ignoring invalid distribution -rkupsafe (c:\\programdata\\anaconda3\\lib\\site-packages)\n",
      "    WARNING: Ignoring invalid distribution -nja2 (c:\\programdata\\anaconda3\\lib\\site-packages)\n",
      "    WARNING: Ignoring invalid distribution -9rkupsafe (c:\\programdata\\anaconda3\\lib\\site-packages)\n",
      "    WARNING: Ignoring invalid distribution -8rkupsafe (c:\\programdata\\anaconda3\\lib\\site-packages)\n",
      "    WARNING: Ignoring invalid distribution -7rkupsafe (c:\\programdata\\anaconda3\\lib\\site-packages)\n",
      "    WARNING: Ignoring invalid distribution -7nja2 (c:\\programdata\\anaconda3\\lib\\site-packages)\n",
      "    WARNING: Ignoring invalid distribution -6rkupsafe (c:\\programdata\\anaconda3\\lib\\site-packages)\n",
      "    WARNING: Ignoring invalid distribution -6nja2 (c:\\programdata\\anaconda3\\lib\\site-packages)\n",
      "    WARNING: Ignoring invalid distribution -5rkupsafe (c:\\programdata\\anaconda3\\lib\\site-packages)\n",
      "    WARNING: Ignoring invalid distribution -5nja2 (c:\\programdata\\anaconda3\\lib\\site-packages)\n",
      "    WARNING: Ignoring invalid distribution -4rkupsafe (c:\\programdata\\anaconda3\\lib\\site-packages)\n",
      "    WARNING: Ignoring invalid distribution -4nja2 (c:\\programdata\\anaconda3\\lib\\site-packages)\n",
      "    WARNING: Ignoring invalid distribution -3rkupsafe (c:\\programdata\\anaconda3\\lib\\site-packages)\n",
      "    WARNING: Ignoring invalid distribution -3nja2 (c:\\programdata\\anaconda3\\lib\\site-packages)\n",
      "    WARNING: Ignoring invalid distribution -2rkupsafe (c:\\programdata\\anaconda3\\lib\\site-packages)\n",
      "    WARNING: Ignoring invalid distribution -2nja2 (c:\\programdata\\anaconda3\\lib\\site-packages)\n",
      "    WARNING: Ignoring invalid distribution -1rkupsafe (c:\\programdata\\anaconda3\\lib\\site-packages)\n",
      "    WARNING: Ignoring invalid distribution -1nja2 (c:\\programdata\\anaconda3\\lib\\site-packages)\n",
      "    WARNING: Ignoring invalid distribution -rkupsafe (c:\\programdata\\anaconda3\\lib\\site-packages)\n",
      "    WARNING: Ignoring invalid distribution -0rkupsafe (c:\\programdata\\anaconda3\\lib\\site-packages)\n",
      "    WARNING: Ignoring invalid distribution -raitlets (c:\\programdata\\anaconda3\\lib\\site-packages)\n",
      "    WARNING: Ignoring invalid distribution -nja2 (c:\\programdata\\anaconda3\\lib\\site-packages)\n",
      "    WARNING: Ignoring invalid distribution -0nja2 (c:\\programdata\\anaconda3\\lib\\site-packages)\n",
      "    WARNING: Ignoring invalid distribution -inja2 (c:\\programdata\\anaconda3\\lib\\site-packages)\n",
      "    WARNING: Ignoring invalid distribution - (c:\\programdata\\anaconda3\\lib\\site-packages)\n",
      "    WARNING: Ignoring invalid distribution -arkupsafe (c:\\programdata\\anaconda3\\lib\\site-packages)\n",
      "ERROR: Could not install packages due to an OSError: [WinError 5] Access is denied: 'c:\\\\programdata\\\\anaconda3\\\\lib\\\\site-packages\\\\jinja2-2.11.3.dist-info\\\\direct_url.json'\n",
      "Consider using the `--user` option or check the permissions.\n",
      "\n",
      "WARNING: Ignoring invalid distribution -rkupsafe (c:\\programdata\\anaconda3\\lib\\site-packages)\n",
      "WARNING: Ignoring invalid distribution -nja2 (c:\\programdata\\anaconda3\\lib\\site-packages)\n",
      "WARNING: Ignoring invalid distribution -9rkupsafe (c:\\programdata\\anaconda3\\lib\\site-packages)\n",
      "WARNING: Ignoring invalid distribution -8rkupsafe (c:\\programdata\\anaconda3\\lib\\site-packages)\n",
      "WARNING: Ignoring invalid distribution -7rkupsafe (c:\\programdata\\anaconda3\\lib\\site-packages)\n",
      "WARNING: Ignoring invalid distribution -7nja2 (c:\\programdata\\anaconda3\\lib\\site-packages)\n",
      "WARNING: Ignoring invalid distribution -6rkupsafe (c:\\programdata\\anaconda3\\lib\\site-packages)\n",
      "WARNING: Ignoring invalid distribution -6nja2 (c:\\programdata\\anaconda3\\lib\\site-packages)\n",
      "WARNING: Ignoring invalid distribution -5rkupsafe (c:\\programdata\\anaconda3\\lib\\site-packages)\n",
      "WARNING: Ignoring invalid distribution -5nja2 (c:\\programdata\\anaconda3\\lib\\site-packages)\n",
      "WARNING: Ignoring invalid distribution -4rkupsafe (c:\\programdata\\anaconda3\\lib\\site-packages)\n",
      "WARNING: Ignoring invalid distribution -4nja2 (c:\\programdata\\anaconda3\\lib\\site-packages)\n",
      "WARNING: Ignoring invalid distribution -3rkupsafe (c:\\programdata\\anaconda3\\lib\\site-packages)\n",
      "WARNING: Ignoring invalid distribution -3nja2 (c:\\programdata\\anaconda3\\lib\\site-packages)\n",
      "WARNING: Ignoring invalid distribution -2rkupsafe (c:\\programdata\\anaconda3\\lib\\site-packages)\n",
      "WARNING: Ignoring invalid distribution -2nja2 (c:\\programdata\\anaconda3\\lib\\site-packages)\n",
      "WARNING: Ignoring invalid distribution -1rkupsafe (c:\\programdata\\anaconda3\\lib\\site-packages)\n",
      "WARNING: Ignoring invalid distribution -1nja2 (c:\\programdata\\anaconda3\\lib\\site-packages)\n",
      "WARNING: Ignoring invalid distribution -rkupsafe (c:\\programdata\\anaconda3\\lib\\site-packages)\n",
      "WARNING: Ignoring invalid distribution -0rkupsafe (c:\\programdata\\anaconda3\\lib\\site-packages)\n",
      "WARNING: Ignoring invalid distribution -raitlets (c:\\programdata\\anaconda3\\lib\\site-packages)\n",
      "WARNING: Ignoring invalid distribution -nja2 (c:\\programdata\\anaconda3\\lib\\site-packages)\n",
      "WARNING: Ignoring invalid distribution -0nja2 (c:\\programdata\\anaconda3\\lib\\site-packages)\n",
      "WARNING: Ignoring invalid distribution -inja2 (c:\\programdata\\anaconda3\\lib\\site-packages)\n",
      "WARNING: Ignoring invalid distribution - (c:\\programdata\\anaconda3\\lib\\site-packages)\n",
      "WARNING: Ignoring invalid distribution -arkupsafe (c:\\programdata\\anaconda3\\lib\\site-packages)\n",
      "WARNING: Ignoring invalid distribution -rkupsafe (c:\\programdata\\anaconda3\\lib\\site-packages)\n",
      "WARNING: Ignoring invalid distribution -nja2 (c:\\programdata\\anaconda3\\lib\\site-packages)\n",
      "WARNING: Ignoring invalid distribution -9rkupsafe (c:\\programdata\\anaconda3\\lib\\site-packages)\n",
      "WARNING: Ignoring invalid distribution -8rkupsafe (c:\\programdata\\anaconda3\\lib\\site-packages)\n",
      "WARNING: Ignoring invalid distribution -7rkupsafe (c:\\programdata\\anaconda3\\lib\\site-packages)\n",
      "WARNING: Ignoring invalid distribution -7nja2 (c:\\programdata\\anaconda3\\lib\\site-packages)\n",
      "WARNING: Ignoring invalid distribution -6rkupsafe (c:\\programdata\\anaconda3\\lib\\site-packages)\n",
      "WARNING: Ignoring invalid distribution -6nja2 (c:\\programdata\\anaconda3\\lib\\site-packages)\n",
      "WARNING: Ignoring invalid distribution -5rkupsafe (c:\\programdata\\anaconda3\\lib\\site-packages)\n",
      "WARNING: Ignoring invalid distribution -5nja2 (c:\\programdata\\anaconda3\\lib\\site-packages)\n",
      "WARNING: Ignoring invalid distribution -4rkupsafe (c:\\programdata\\anaconda3\\lib\\site-packages)\n",
      "WARNING: Ignoring invalid distribution -4nja2 (c:\\programdata\\anaconda3\\lib\\site-packages)\n",
      "WARNING: Ignoring invalid distribution -3rkupsafe (c:\\programdata\\anaconda3\\lib\\site-packages)\n",
      "WARNING: Ignoring invalid distribution -3nja2 (c:\\programdata\\anaconda3\\lib\\site-packages)\n",
      "WARNING: Ignoring invalid distribution -2rkupsafe (c:\\programdata\\anaconda3\\lib\\site-packages)\n",
      "WARNING: Ignoring invalid distribution -2nja2 (c:\\programdata\\anaconda3\\lib\\site-packages)\n",
      "WARNING: Ignoring invalid distribution -1rkupsafe (c:\\programdata\\anaconda3\\lib\\site-packages)\n",
      "WARNING: Ignoring invalid distribution -1nja2 (c:\\programdata\\anaconda3\\lib\\site-packages)\n",
      "WARNING: Ignoring invalid distribution -rkupsafe (c:\\programdata\\anaconda3\\lib\\site-packages)\n",
      "WARNING: Ignoring invalid distribution -0rkupsafe (c:\\programdata\\anaconda3\\lib\\site-packages)\n",
      "WARNING: Ignoring invalid distribution -raitlets (c:\\programdata\\anaconda3\\lib\\site-packages)\n",
      "WARNING: Ignoring invalid distribution -nja2 (c:\\programdata\\anaconda3\\lib\\site-packages)\n",
      "WARNING: Ignoring invalid distribution -0nja2 (c:\\programdata\\anaconda3\\lib\\site-packages)\n",
      "WARNING: Ignoring invalid distribution -inja2 (c:\\programdata\\anaconda3\\lib\\site-packages)\n",
      "WARNING: Ignoring invalid distribution - (c:\\programdata\\anaconda3\\lib\\site-packages)\n",
      "WARNING: Ignoring invalid distribution -arkupsafe (c:\\programdata\\anaconda3\\lib\\site-packages)\n",
      "WARNING: Ignoring invalid distribution -rkupsafe (c:\\programdata\\anaconda3\\lib\\site-packages)\n",
      "WARNING: Ignoring invalid distribution -nja2 (c:\\programdata\\anaconda3\\lib\\site-packages)\n",
      "WARNING: Ignoring invalid distribution -9rkupsafe (c:\\programdata\\anaconda3\\lib\\site-packages)\n",
      "WARNING: Ignoring invalid distribution -8rkupsafe (c:\\programdata\\anaconda3\\lib\\site-packages)\n",
      "WARNING: Ignoring invalid distribution -7rkupsafe (c:\\programdata\\anaconda3\\lib\\site-packages)\n",
      "WARNING: Ignoring invalid distribution -7nja2 (c:\\programdata\\anaconda3\\lib\\site-packages)\n",
      "WARNING: Ignoring invalid distribution -6rkupsafe (c:\\programdata\\anaconda3\\lib\\site-packages)\n",
      "WARNING: Ignoring invalid distribution -6nja2 (c:\\programdata\\anaconda3\\lib\\site-packages)\n",
      "WARNING: Ignoring invalid distribution -5rkupsafe (c:\\programdata\\anaconda3\\lib\\site-packages)\n",
      "WARNING: Ignoring invalid distribution -5nja2 (c:\\programdata\\anaconda3\\lib\\site-packages)\n",
      "WARNING: Ignoring invalid distribution -4rkupsafe (c:\\programdata\\anaconda3\\lib\\site-packages)\n",
      "WARNING: Ignoring invalid distribution -4nja2 (c:\\programdata\\anaconda3\\lib\\site-packages)\n",
      "WARNING: Ignoring invalid distribution -3rkupsafe (c:\\programdata\\anaconda3\\lib\\site-packages)\n",
      "WARNING: Ignoring invalid distribution -3nja2 (c:\\programdata\\anaconda3\\lib\\site-packages)\n",
      "WARNING: Ignoring invalid distribution -2rkupsafe (c:\\programdata\\anaconda3\\lib\\site-packages)\n",
      "WARNING: Ignoring invalid distribution -2nja2 (c:\\programdata\\anaconda3\\lib\\site-packages)\n",
      "WARNING: Ignoring invalid distribution -1rkupsafe (c:\\programdata\\anaconda3\\lib\\site-packages)\n",
      "WARNING: Ignoring invalid distribution -1nja2 (c:\\programdata\\anaconda3\\lib\\site-packages)\n",
      "WARNING: Ignoring invalid distribution -rkupsafe (c:\\programdata\\anaconda3\\lib\\site-packages)\n",
      "WARNING: Ignoring invalid distribution -0rkupsafe (c:\\programdata\\anaconda3\\lib\\site-packages)\n",
      "WARNING: Ignoring invalid distribution -raitlets (c:\\programdata\\anaconda3\\lib\\site-packages)\n",
      "WARNING: Ignoring invalid distribution -nja2 (c:\\programdata\\anaconda3\\lib\\site-packages)\n",
      "WARNING: Ignoring invalid distribution -0nja2 (c:\\programdata\\anaconda3\\lib\\site-packages)\n",
      "WARNING: Ignoring invalid distribution -inja2 (c:\\programdata\\anaconda3\\lib\\site-packages)\n",
      "WARNING: Ignoring invalid distribution - (c:\\programdata\\anaconda3\\lib\\site-packages)\n",
      "WARNING: Ignoring invalid distribution -arkupsafe (c:\\programdata\\anaconda3\\lib\\site-packages)\n"
     ]
    }
   ],
   "source": [
    "!pip install pandas numpy seaborn matplotlib klib dtale scikit-learn joblib pandas-profiling xgboost\n"
   ]
  },
  {
   "cell_type": "code",
   "execution_count": 11,
   "id": "1f29aab3",
   "metadata": {},
   "outputs": [],
   "source": [
    "import pandas as pd\n",
    "import numpy as np\n",
    "import matplotlib.pyplot as plt\n",
    "import seaborn as sns"
   ]
  },
  {
   "cell_type": "code",
   "execution_count": 12,
   "id": "3b7de731",
   "metadata": {},
   "outputs": [],
   "source": [
    "df_train= pd.read_csv(r'C:\\Users\\Roshan\\Desktop\\Sales_pred\\Sales_Prediction\\dataset\\train.csv')\n"
   ]
  },
  {
   "cell_type": "code",
   "execution_count": 10,
   "id": "2b4b2eb2",
   "metadata": {},
   "outputs": [
    {
     "data": {
      "text/html": [
       "<div>\n",
       "<style scoped>\n",
       "    .dataframe tbody tr th:only-of-type {\n",
       "        vertical-align: middle;\n",
       "    }\n",
       "\n",
       "    .dataframe tbody tr th {\n",
       "        vertical-align: top;\n",
       "    }\n",
       "\n",
       "    .dataframe thead th {\n",
       "        text-align: right;\n",
       "    }\n",
       "</style>\n",
       "<table border=\"1\" class=\"dataframe\">\n",
       "  <thead>\n",
       "    <tr style=\"text-align: right;\">\n",
       "      <th></th>\n",
       "      <th>Item_Identifier</th>\n",
       "      <th>Item_Weight</th>\n",
       "      <th>Item_Fat_Content</th>\n",
       "      <th>Item_Visibility</th>\n",
       "      <th>Item_Type</th>\n",
       "      <th>Item_MRP</th>\n",
       "      <th>Outlet_Identifier</th>\n",
       "      <th>Outlet_Establishment_Year</th>\n",
       "      <th>Outlet_Size</th>\n",
       "      <th>Outlet_Location_Type</th>\n",
       "      <th>Outlet_Type</th>\n",
       "      <th>Item_Outlet_Sales</th>\n",
       "    </tr>\n",
       "  </thead>\n",
       "  <tbody>\n",
       "    <tr>\n",
       "      <th>0</th>\n",
       "      <td>FDA15</td>\n",
       "      <td>9.30</td>\n",
       "      <td>Low Fat</td>\n",
       "      <td>0.016047</td>\n",
       "      <td>Dairy</td>\n",
       "      <td>249.8092</td>\n",
       "      <td>OUT049</td>\n",
       "      <td>1999</td>\n",
       "      <td>Medium</td>\n",
       "      <td>Tier 1</td>\n",
       "      <td>Supermarket Type1</td>\n",
       "      <td>3735.1380</td>\n",
       "    </tr>\n",
       "    <tr>\n",
       "      <th>1</th>\n",
       "      <td>DRC01</td>\n",
       "      <td>5.92</td>\n",
       "      <td>Regular</td>\n",
       "      <td>0.019278</td>\n",
       "      <td>Soft Drinks</td>\n",
       "      <td>48.2692</td>\n",
       "      <td>OUT018</td>\n",
       "      <td>2009</td>\n",
       "      <td>Medium</td>\n",
       "      <td>Tier 3</td>\n",
       "      <td>Supermarket Type2</td>\n",
       "      <td>443.4228</td>\n",
       "    </tr>\n",
       "    <tr>\n",
       "      <th>2</th>\n",
       "      <td>FDN15</td>\n",
       "      <td>17.50</td>\n",
       "      <td>Low Fat</td>\n",
       "      <td>0.016760</td>\n",
       "      <td>Meat</td>\n",
       "      <td>141.6180</td>\n",
       "      <td>OUT049</td>\n",
       "      <td>1999</td>\n",
       "      <td>Medium</td>\n",
       "      <td>Tier 1</td>\n",
       "      <td>Supermarket Type1</td>\n",
       "      <td>2097.2700</td>\n",
       "    </tr>\n",
       "    <tr>\n",
       "      <th>3</th>\n",
       "      <td>FDX07</td>\n",
       "      <td>19.20</td>\n",
       "      <td>Regular</td>\n",
       "      <td>0.000000</td>\n",
       "      <td>Fruits and Vegetables</td>\n",
       "      <td>182.0950</td>\n",
       "      <td>OUT010</td>\n",
       "      <td>1998</td>\n",
       "      <td>NaN</td>\n",
       "      <td>Tier 3</td>\n",
       "      <td>Grocery Store</td>\n",
       "      <td>732.3800</td>\n",
       "    </tr>\n",
       "    <tr>\n",
       "      <th>4</th>\n",
       "      <td>NCD19</td>\n",
       "      <td>8.93</td>\n",
       "      <td>Low Fat</td>\n",
       "      <td>0.000000</td>\n",
       "      <td>Household</td>\n",
       "      <td>53.8614</td>\n",
       "      <td>OUT013</td>\n",
       "      <td>1987</td>\n",
       "      <td>High</td>\n",
       "      <td>Tier 3</td>\n",
       "      <td>Supermarket Type1</td>\n",
       "      <td>994.7052</td>\n",
       "    </tr>\n",
       "  </tbody>\n",
       "</table>\n",
       "</div>"
      ],
      "text/plain": [
       "  Item_Identifier  Item_Weight Item_Fat_Content  Item_Visibility  \\\n",
       "0           FDA15         9.30          Low Fat         0.016047   \n",
       "1           DRC01         5.92          Regular         0.019278   \n",
       "2           FDN15        17.50          Low Fat         0.016760   \n",
       "3           FDX07        19.20          Regular         0.000000   \n",
       "4           NCD19         8.93          Low Fat         0.000000   \n",
       "\n",
       "               Item_Type  Item_MRP Outlet_Identifier  \\\n",
       "0                  Dairy  249.8092            OUT049   \n",
       "1            Soft Drinks   48.2692            OUT018   \n",
       "2                   Meat  141.6180            OUT049   \n",
       "3  Fruits and Vegetables  182.0950            OUT010   \n",
       "4              Household   53.8614            OUT013   \n",
       "\n",
       "   Outlet_Establishment_Year Outlet_Size Outlet_Location_Type  \\\n",
       "0                       1999      Medium               Tier 1   \n",
       "1                       2009      Medium               Tier 3   \n",
       "2                       1999      Medium               Tier 1   \n",
       "3                       1998         NaN               Tier 3   \n",
       "4                       1987        High               Tier 3   \n",
       "\n",
       "         Outlet_Type  Item_Outlet_Sales  \n",
       "0  Supermarket Type1          3735.1380  \n",
       "1  Supermarket Type2           443.4228  \n",
       "2  Supermarket Type1          2097.2700  \n",
       "3      Grocery Store           732.3800  \n",
       "4  Supermarket Type1           994.7052  "
      ]
     },
     "execution_count": 10,
     "metadata": {},
     "output_type": "execute_result"
    }
   ],
   "source": [
    "df_train.head()"
   ]
  },
  {
   "cell_type": "code",
   "execution_count": 5,
   "id": "7a59e827",
   "metadata": {},
   "outputs": [
    {
     "data": {
      "text/plain": [
       "Item_Identifier                 0\n",
       "Item_Weight                  2116\n",
       "Item_Fat_Content                0\n",
       "Item_Visibility                 0\n",
       "Item_Type                       0\n",
       "Item_MRP                        0\n",
       "Outlet_Identifier               0\n",
       "Outlet_Establishment_Year       0\n",
       "Outlet_Size                  3559\n",
       "Outlet_Location_Type            0\n",
       "Outlet_Type                     0\n",
       "Item_Outlet_Sales               0\n",
       "dtype: int64"
      ]
     },
     "execution_count": 5,
     "metadata": {},
     "output_type": "execute_result"
    }
   ],
   "source": [
    "df_train.isnull().sum()"
   ]
  },
  {
   "cell_type": "code",
   "execution_count": 6,
   "id": "459e0c40",
   "metadata": {},
   "outputs": [
    {
     "name": "stdout",
     "output_type": "stream",
     "text": [
      "<class 'pandas.core.frame.DataFrame'>\n",
      "RangeIndex: 12522 entries, 0 to 12521\n",
      "Data columns (total 12 columns):\n",
      " #   Column                     Non-Null Count  Dtype  \n",
      "---  ------                     --------------  -----  \n",
      " 0   Item_Identifier            12522 non-null  object \n",
      " 1   Item_Weight                10406 non-null  float64\n",
      " 2   Item_Fat_Content           12522 non-null  object \n",
      " 3   Item_Visibility            12522 non-null  float64\n",
      " 4   Item_Type                  12522 non-null  object \n",
      " 5   Item_MRP                   12522 non-null  float64\n",
      " 6   Outlet_Identifier          12522 non-null  object \n",
      " 7   Outlet_Establishment_Year  12522 non-null  int64  \n",
      " 8   Outlet_Size                8963 non-null   object \n",
      " 9   Outlet_Location_Type       12522 non-null  object \n",
      " 10  Outlet_Type                12522 non-null  object \n",
      " 11  Item_Outlet_Sales          12522 non-null  float64\n",
      "dtypes: float64(4), int64(1), object(7)\n",
      "memory usage: 1.1+ MB\n"
     ]
    }
   ],
   "source": [
    "df_train.info()"
   ]
  },
  {
   "cell_type": "code",
   "execution_count": 7,
   "id": "bb13ea56",
   "metadata": {},
   "outputs": [
    {
     "data": {
      "text/html": [
       "<div>\n",
       "<style scoped>\n",
       "    .dataframe tbody tr th:only-of-type {\n",
       "        vertical-align: middle;\n",
       "    }\n",
       "\n",
       "    .dataframe tbody tr th {\n",
       "        vertical-align: top;\n",
       "    }\n",
       "\n",
       "    .dataframe thead th {\n",
       "        text-align: right;\n",
       "    }\n",
       "</style>\n",
       "<table border=\"1\" class=\"dataframe\">\n",
       "  <thead>\n",
       "    <tr style=\"text-align: right;\">\n",
       "      <th></th>\n",
       "      <th>Item_Weight</th>\n",
       "      <th>Item_Visibility</th>\n",
       "      <th>Item_MRP</th>\n",
       "      <th>Outlet_Establishment_Year</th>\n",
       "      <th>Item_Outlet_Sales</th>\n",
       "    </tr>\n",
       "  </thead>\n",
       "  <tbody>\n",
       "    <tr>\n",
       "      <th>count</th>\n",
       "      <td>10406.000000</td>\n",
       "      <td>12522.000000</td>\n",
       "      <td>12522.000000</td>\n",
       "      <td>12522.000000</td>\n",
       "      <td>12522.000000</td>\n",
       "    </tr>\n",
       "    <tr>\n",
       "      <th>mean</th>\n",
       "      <td>12.882102</td>\n",
       "      <td>0.066044</td>\n",
       "      <td>140.940513</td>\n",
       "      <td>1997.854336</td>\n",
       "      <td>2182.531700</td>\n",
       "    </tr>\n",
       "    <tr>\n",
       "      <th>std</th>\n",
       "      <td>4.643995</td>\n",
       "      <td>0.051520</td>\n",
       "      <td>62.364311</td>\n",
       "      <td>8.344254</td>\n",
       "      <td>1706.922575</td>\n",
       "    </tr>\n",
       "    <tr>\n",
       "      <th>min</th>\n",
       "      <td>4.555000</td>\n",
       "      <td>0.000000</td>\n",
       "      <td>31.290000</td>\n",
       "      <td>1985.000000</td>\n",
       "      <td>33.290000</td>\n",
       "    </tr>\n",
       "    <tr>\n",
       "      <th>25%</th>\n",
       "      <td>8.800000</td>\n",
       "      <td>0.026982</td>\n",
       "      <td>93.646200</td>\n",
       "      <td>1987.000000</td>\n",
       "      <td>831.417750</td>\n",
       "    </tr>\n",
       "    <tr>\n",
       "      <th>50%</th>\n",
       "      <td>12.600000</td>\n",
       "      <td>0.053981</td>\n",
       "      <td>142.914100</td>\n",
       "      <td>1999.000000</td>\n",
       "      <td>1789.670400</td>\n",
       "    </tr>\n",
       "    <tr>\n",
       "      <th>75%</th>\n",
       "      <td>16.850000</td>\n",
       "      <td>0.094292</td>\n",
       "      <td>186.024000</td>\n",
       "      <td>2004.000000</td>\n",
       "      <td>3097.967400</td>\n",
       "    </tr>\n",
       "    <tr>\n",
       "      <th>max</th>\n",
       "      <td>21.350000</td>\n",
       "      <td>0.328391</td>\n",
       "      <td>266.888400</td>\n",
       "      <td>2009.000000</td>\n",
       "      <td>13086.964800</td>\n",
       "    </tr>\n",
       "  </tbody>\n",
       "</table>\n",
       "</div>"
      ],
      "text/plain": [
       "        Item_Weight  Item_Visibility      Item_MRP  Outlet_Establishment_Year  \\\n",
       "count  10406.000000     12522.000000  12522.000000               12522.000000   \n",
       "mean      12.882102         0.066044    140.940513                1997.854336   \n",
       "std        4.643995         0.051520     62.364311                   8.344254   \n",
       "min        4.555000         0.000000     31.290000                1985.000000   \n",
       "25%        8.800000         0.026982     93.646200                1987.000000   \n",
       "50%       12.600000         0.053981    142.914100                1999.000000   \n",
       "75%       16.850000         0.094292    186.024000                2004.000000   \n",
       "max       21.350000         0.328391    266.888400                2009.000000   \n",
       "\n",
       "       Item_Outlet_Sales  \n",
       "count       12522.000000  \n",
       "mean         2182.531700  \n",
       "std          1706.922575  \n",
       "min            33.290000  \n",
       "25%           831.417750  \n",
       "50%          1789.670400  \n",
       "75%          3097.967400  \n",
       "max         13086.964800  "
      ]
     },
     "execution_count": 7,
     "metadata": {},
     "output_type": "execute_result"
    }
   ],
   "source": [
    "df_train.describe()"
   ]
  },
  {
   "cell_type": "markdown",
   "id": "18bfd68b",
   "metadata": {},
   "source": [
    "### Item_Weight is numerical column so we fill it with Mean Imputation"
   ]
  },
  {
   "cell_type": "code",
   "execution_count": 8,
   "id": "9cae70a7",
   "metadata": {},
   "outputs": [
    {
     "data": {
      "text/plain": [
       "count    10406.000000\n",
       "mean        12.882102\n",
       "std          4.643995\n",
       "min          4.555000\n",
       "25%          8.800000\n",
       "50%         12.600000\n",
       "75%         16.850000\n",
       "max         21.350000\n",
       "Name: Item_Weight, dtype: float64"
      ]
     },
     "execution_count": 8,
     "metadata": {},
     "output_type": "execute_result"
    }
   ],
   "source": [
    "df_train['Item_Weight'].describe()"
   ]
  },
  {
   "cell_type": "code",
   "execution_count": 9,
   "id": "ab4fec23",
   "metadata": {},
   "outputs": [],
   "source": [
    "df_train['Item_Weight'].fillna(df_train['Item_Weight'].mean(),inplace=True)\n"
   ]
  },
  {
   "cell_type": "code",
   "execution_count": 10,
   "id": "724fb983",
   "metadata": {},
   "outputs": [
    {
     "data": {
      "text/plain": [
       "Item_Identifier                 0\n",
       "Item_Weight                     0\n",
       "Item_Fat_Content                0\n",
       "Item_Visibility                 0\n",
       "Item_Type                       0\n",
       "Item_MRP                        0\n",
       "Outlet_Identifier               0\n",
       "Outlet_Establishment_Year       0\n",
       "Outlet_Size                  3559\n",
       "Outlet_Location_Type            0\n",
       "Outlet_Type                     0\n",
       "Item_Outlet_Sales               0\n",
       "dtype: int64"
      ]
     },
     "execution_count": 10,
     "metadata": {},
     "output_type": "execute_result"
    }
   ],
   "source": [
    "df_train.isnull().sum()"
   ]
  },
  {
   "cell_type": "code",
   "execution_count": 11,
   "id": "5d7c64d4",
   "metadata": {},
   "outputs": [
    {
     "data": {
      "text/plain": [
       "count    12522.000000\n",
       "mean        12.882102\n",
       "std          4.233439\n",
       "min          4.555000\n",
       "25%          9.395000\n",
       "50%         12.882102\n",
       "75%         16.100000\n",
       "max         21.350000\n",
       "Name: Item_Weight, dtype: float64"
      ]
     },
     "execution_count": 11,
     "metadata": {},
     "output_type": "execute_result"
    }
   ],
   "source": [
    "df_train['Item_Weight'].describe()"
   ]
  },
  {
   "cell_type": "markdown",
   "id": "016ab1e2",
   "metadata": {},
   "source": [
    "### Outlet_Size is catagorical column so we fill it with Mode Imputation"
   ]
  },
  {
   "cell_type": "code",
   "execution_count": 12,
   "id": "32b702b8",
   "metadata": {},
   "outputs": [
    {
     "data": {
      "text/plain": [
       "Medium    4071\n",
       "Small     3513\n",
       "High      1379\n",
       "Name: Outlet_Size, dtype: int64"
      ]
     },
     "execution_count": 12,
     "metadata": {},
     "output_type": "execute_result"
    }
   ],
   "source": [
    "df_train['Outlet_Size'].value_counts()"
   ]
  },
  {
   "cell_type": "code",
   "execution_count": 13,
   "id": "714d4102",
   "metadata": {},
   "outputs": [
    {
     "data": {
      "text/plain": [
       "0    Medium\n",
       "dtype: object"
      ]
     },
     "execution_count": 13,
     "metadata": {},
     "output_type": "execute_result"
    }
   ],
   "source": [
    "df_train['Outlet_Size'].mode()"
   ]
  },
  {
   "cell_type": "code",
   "execution_count": 14,
   "id": "047028d9",
   "metadata": {},
   "outputs": [],
   "source": [
    "df_train['Outlet_Size'].fillna(df_train['Outlet_Size'].mode()[0],inplace=True)\n"
   ]
  },
  {
   "cell_type": "code",
   "execution_count": 15,
   "id": "e92bbef1",
   "metadata": {},
   "outputs": [
    {
     "data": {
      "text/plain": [
       "Item_Identifier              0\n",
       "Item_Weight                  0\n",
       "Item_Fat_Content             0\n",
       "Item_Visibility              0\n",
       "Item_Type                    0\n",
       "Item_MRP                     0\n",
       "Outlet_Identifier            0\n",
       "Outlet_Establishment_Year    0\n",
       "Outlet_Size                  0\n",
       "Outlet_Location_Type         0\n",
       "Outlet_Type                  0\n",
       "Item_Outlet_Sales            0\n",
       "dtype: int64"
      ]
     },
     "execution_count": 15,
     "metadata": {},
     "output_type": "execute_result"
    }
   ],
   "source": [
    "df_train.isnull().sum()"
   ]
  },
  {
   "cell_type": "markdown",
   "id": "dd033dca",
   "metadata": {},
   "source": [
    "# Selecting features based on general requirements"
   ]
  },
  {
   "cell_type": "code",
   "execution_count": 16,
   "id": "0511f531",
   "metadata": {},
   "outputs": [],
   "source": [
    "df_train.drop(['Item_Identifier','Outlet_Identifier'],axis=1,inplace=True)\n"
   ]
  },
  {
   "cell_type": "code",
   "execution_count": 17,
   "id": "647c0ac2",
   "metadata": {},
   "outputs": [
    {
     "data": {
      "text/html": [
       "<div>\n",
       "<style scoped>\n",
       "    .dataframe tbody tr th:only-of-type {\n",
       "        vertical-align: middle;\n",
       "    }\n",
       "\n",
       "    .dataframe tbody tr th {\n",
       "        vertical-align: top;\n",
       "    }\n",
       "\n",
       "    .dataframe thead th {\n",
       "        text-align: right;\n",
       "    }\n",
       "</style>\n",
       "<table border=\"1\" class=\"dataframe\">\n",
       "  <thead>\n",
       "    <tr style=\"text-align: right;\">\n",
       "      <th></th>\n",
       "      <th>Item_Weight</th>\n",
       "      <th>Item_Fat_Content</th>\n",
       "      <th>Item_Visibility</th>\n",
       "      <th>Item_Type</th>\n",
       "      <th>Item_MRP</th>\n",
       "      <th>Outlet_Establishment_Year</th>\n",
       "      <th>Outlet_Size</th>\n",
       "      <th>Outlet_Location_Type</th>\n",
       "      <th>Outlet_Type</th>\n",
       "      <th>Item_Outlet_Sales</th>\n",
       "    </tr>\n",
       "  </thead>\n",
       "  <tbody>\n",
       "    <tr>\n",
       "      <th>0</th>\n",
       "      <td>9.300000</td>\n",
       "      <td>Low Fat</td>\n",
       "      <td>0.016047</td>\n",
       "      <td>Dairy</td>\n",
       "      <td>249.8092</td>\n",
       "      <td>1999</td>\n",
       "      <td>Medium</td>\n",
       "      <td>Tier 1</td>\n",
       "      <td>Supermarket Type1</td>\n",
       "      <td>3735.1380</td>\n",
       "    </tr>\n",
       "    <tr>\n",
       "      <th>1</th>\n",
       "      <td>5.920000</td>\n",
       "      <td>Regular</td>\n",
       "      <td>0.019278</td>\n",
       "      <td>Soft Drinks</td>\n",
       "      <td>48.2692</td>\n",
       "      <td>2009</td>\n",
       "      <td>Medium</td>\n",
       "      <td>Tier 3</td>\n",
       "      <td>Supermarket Type2</td>\n",
       "      <td>443.4228</td>\n",
       "    </tr>\n",
       "    <tr>\n",
       "      <th>2</th>\n",
       "      <td>17.500000</td>\n",
       "      <td>Low Fat</td>\n",
       "      <td>0.016760</td>\n",
       "      <td>Meat</td>\n",
       "      <td>141.6180</td>\n",
       "      <td>1999</td>\n",
       "      <td>Medium</td>\n",
       "      <td>Tier 1</td>\n",
       "      <td>Supermarket Type1</td>\n",
       "      <td>2097.2700</td>\n",
       "    </tr>\n",
       "    <tr>\n",
       "      <th>3</th>\n",
       "      <td>19.200000</td>\n",
       "      <td>Regular</td>\n",
       "      <td>0.000000</td>\n",
       "      <td>Fruits and Vegetables</td>\n",
       "      <td>182.0950</td>\n",
       "      <td>1998</td>\n",
       "      <td>Medium</td>\n",
       "      <td>Tier 3</td>\n",
       "      <td>Grocery Store</td>\n",
       "      <td>732.3800</td>\n",
       "    </tr>\n",
       "    <tr>\n",
       "      <th>4</th>\n",
       "      <td>8.930000</td>\n",
       "      <td>Low Fat</td>\n",
       "      <td>0.000000</td>\n",
       "      <td>Household</td>\n",
       "      <td>53.8614</td>\n",
       "      <td>1987</td>\n",
       "      <td>High</td>\n",
       "      <td>Tier 3</td>\n",
       "      <td>Supermarket Type1</td>\n",
       "      <td>994.7052</td>\n",
       "    </tr>\n",
       "    <tr>\n",
       "      <th>...</th>\n",
       "      <td>...</td>\n",
       "      <td>...</td>\n",
       "      <td>...</td>\n",
       "      <td>...</td>\n",
       "      <td>...</td>\n",
       "      <td>...</td>\n",
       "      <td>...</td>\n",
       "      <td>...</td>\n",
       "      <td>...</td>\n",
       "      <td>...</td>\n",
       "    </tr>\n",
       "    <tr>\n",
       "      <th>12517</th>\n",
       "      <td>12.882102</td>\n",
       "      <td>Regular</td>\n",
       "      <td>0.087422</td>\n",
       "      <td>Frozen Foods</td>\n",
       "      <td>154.4630</td>\n",
       "      <td>1985</td>\n",
       "      <td>Medium</td>\n",
       "      <td>Tier 3</td>\n",
       "      <td>Supermarket Type3</td>\n",
       "      <td>2972.7970</td>\n",
       "    </tr>\n",
       "    <tr>\n",
       "      <th>12518</th>\n",
       "      <td>13.350000</td>\n",
       "      <td>Low Fat</td>\n",
       "      <td>0.038745</td>\n",
       "      <td>Snack Foods</td>\n",
       "      <td>239.3564</td>\n",
       "      <td>2007</td>\n",
       "      <td>Medium</td>\n",
       "      <td>Tier 2</td>\n",
       "      <td>Supermarket Type1</td>\n",
       "      <td>3098.6332</td>\n",
       "    </tr>\n",
       "    <tr>\n",
       "      <th>12519</th>\n",
       "      <td>20.100000</td>\n",
       "      <td>Low Fat</td>\n",
       "      <td>0.124911</td>\n",
       "      <td>Dairy</td>\n",
       "      <td>109.6228</td>\n",
       "      <td>1998</td>\n",
       "      <td>Medium</td>\n",
       "      <td>Tier 3</td>\n",
       "      <td>Grocery Store</td>\n",
       "      <td>110.5228</td>\n",
       "    </tr>\n",
       "    <tr>\n",
       "      <th>12520</th>\n",
       "      <td>8.185000</td>\n",
       "      <td>Low Fat</td>\n",
       "      <td>0.046673</td>\n",
       "      <td>Fruits and Vegetables</td>\n",
       "      <td>48.4692</td>\n",
       "      <td>2009</td>\n",
       "      <td>Medium</td>\n",
       "      <td>Tier 3</td>\n",
       "      <td>Supermarket Type2</td>\n",
       "      <td>591.2304</td>\n",
       "    </tr>\n",
       "    <tr>\n",
       "      <th>12521</th>\n",
       "      <td>9.195000</td>\n",
       "      <td>Low Fat</td>\n",
       "      <td>0.048135</td>\n",
       "      <td>Household</td>\n",
       "      <td>107.7622</td>\n",
       "      <td>1999</td>\n",
       "      <td>Medium</td>\n",
       "      <td>Tier 1</td>\n",
       "      <td>Supermarket Type1</td>\n",
       "      <td>529.3110</td>\n",
       "    </tr>\n",
       "  </tbody>\n",
       "</table>\n",
       "<p>12522 rows × 10 columns</p>\n",
       "</div>"
      ],
      "text/plain": [
       "       Item_Weight Item_Fat_Content  Item_Visibility              Item_Type  \\\n",
       "0         9.300000          Low Fat         0.016047                  Dairy   \n",
       "1         5.920000          Regular         0.019278            Soft Drinks   \n",
       "2        17.500000          Low Fat         0.016760                   Meat   \n",
       "3        19.200000          Regular         0.000000  Fruits and Vegetables   \n",
       "4         8.930000          Low Fat         0.000000              Household   \n",
       "...            ...              ...              ...                    ...   \n",
       "12517    12.882102          Regular         0.087422           Frozen Foods   \n",
       "12518    13.350000          Low Fat         0.038745            Snack Foods   \n",
       "12519    20.100000          Low Fat         0.124911                  Dairy   \n",
       "12520     8.185000          Low Fat         0.046673  Fruits and Vegetables   \n",
       "12521     9.195000          Low Fat         0.048135              Household   \n",
       "\n",
       "       Item_MRP  Outlet_Establishment_Year Outlet_Size Outlet_Location_Type  \\\n",
       "0      249.8092                       1999      Medium               Tier 1   \n",
       "1       48.2692                       2009      Medium               Tier 3   \n",
       "2      141.6180                       1999      Medium               Tier 1   \n",
       "3      182.0950                       1998      Medium               Tier 3   \n",
       "4       53.8614                       1987        High               Tier 3   \n",
       "...         ...                        ...         ...                  ...   \n",
       "12517  154.4630                       1985      Medium               Tier 3   \n",
       "12518  239.3564                       2007      Medium               Tier 2   \n",
       "12519  109.6228                       1998      Medium               Tier 3   \n",
       "12520   48.4692                       2009      Medium               Tier 3   \n",
       "12521  107.7622                       1999      Medium               Tier 1   \n",
       "\n",
       "             Outlet_Type  Item_Outlet_Sales  \n",
       "0      Supermarket Type1          3735.1380  \n",
       "1      Supermarket Type2           443.4228  \n",
       "2      Supermarket Type1          2097.2700  \n",
       "3          Grocery Store           732.3800  \n",
       "4      Supermarket Type1           994.7052  \n",
       "...                  ...                ...  \n",
       "12517  Supermarket Type3          2972.7970  \n",
       "12518  Supermarket Type1          3098.6332  \n",
       "12519      Grocery Store           110.5228  \n",
       "12520  Supermarket Type2           591.2304  \n",
       "12521  Supermarket Type1           529.3110  \n",
       "\n",
       "[12522 rows x 10 columns]"
      ]
     },
     "execution_count": 17,
     "metadata": {},
     "output_type": "execute_result"
    }
   ],
   "source": [
    "df_train"
   ]
  },
  {
   "cell_type": "markdown",
   "id": "1dcefc33",
   "metadata": {},
   "source": [
    "# EDA using Klib Library"
   ]
  },
  {
   "cell_type": "code",
   "execution_count": 18,
   "id": "31dbc1d6",
   "metadata": {},
   "outputs": [],
   "source": [
    "import klib"
   ]
  },
  {
   "cell_type": "code",
   "execution_count": 19,
   "id": "e87d1dbd",
   "metadata": {},
   "outputs": [
    {
     "data": {
      "text/plain": [
       "GridSpec(6, 5)"
      ]
     },
     "execution_count": 19,
     "metadata": {},
     "output_type": "execute_result"
    },
    {
     "data": {
      "image/png": "[encoded data removed]",
      "text/plain": [
       "<Figure size 1296x1296 with 11 Axes>"
      ]
     },
     "metadata": {
      "needs_background": "light"
     },
     "output_type": "display_data"
    }
   ],
   "source": [
    "# klib.describe - functions for visualizing datasets\n",
    "klib.cat_plot(df_train) # returns a visualization of the number and frequency of categorical features\n"
   ]
  },
  {
   "cell_type": "code",
   "execution_count": null,
   "id": "508554fc",
   "metadata": {},
   "outputs": [],
   "source": []
  },
  {
   "cell_type": "code",
   "execution_count": 20,
   "id": "6b5ea406",
   "metadata": {},
   "outputs": [
    {
     "data": {
      "text/html": [
       "<style type=\"text/css\">\n",
       "#T_f8654_row0_col0, #T_f8654_row0_col2, #T_f8654_row0_col4, #T_f8654_row1_col1, #T_f8654_row2_col0, #T_f8654_row2_col2, #T_f8654_row2_col3, #T_f8654_row2_col4, #T_f8654_row3_col2, #T_f8654_row3_col3, #T_f8654_row4_col0, #T_f8654_row4_col2, #T_f8654_row4_col4 {\n",
       "  color: None;\n",
       "}\n",
       "#T_f8654_row0_col1, #T_f8654_row0_col3, #T_f8654_row1_col0, #T_f8654_row1_col2, #T_f8654_row1_col3, #T_f8654_row1_col4, #T_f8654_row2_col1, #T_f8654_row3_col0, #T_f8654_row3_col1, #T_f8654_row3_col4, #T_f8654_row4_col1, #T_f8654_row4_col3 {\n",
       "  color: #FF3344;\n",
       "}\n",
       "</style>\n",
       "<table id=\"T_f8654_\">\n",
       "  <thead>\n",
       "    <tr>\n",
       "      <th class=\"blank level0\" >&nbsp;</th>\n",
       "      <th class=\"col_heading level0 col0\" >Item_Weight</th>\n",
       "      <th class=\"col_heading level0 col1\" >Item_Visibility</th>\n",
       "      <th class=\"col_heading level0 col2\" >Item_MRP</th>\n",
       "      <th class=\"col_heading level0 col3\" >Outlet_Establishment_Year</th>\n",
       "      <th class=\"col_heading level0 col4\" >Item_Outlet_Sales</th>\n",
       "    </tr>\n",
       "  </thead>\n",
       "  <tbody>\n",
       "    <tr>\n",
       "      <th id=\"T_f8654_level0_row0\" class=\"row_heading level0 row0\" >Item_Weight</th>\n",
       "      <td id=\"T_f8654_row0_col0\" class=\"data row0 col0\" >1.00</td>\n",
       "      <td id=\"T_f8654_row0_col1\" class=\"data row0 col1\" >-0.01</td>\n",
       "      <td id=\"T_f8654_row0_col2\" class=\"data row0 col2\" >0.02</td>\n",
       "      <td id=\"T_f8654_row0_col3\" class=\"data row0 col3\" >-0.01</td>\n",
       "      <td id=\"T_f8654_row0_col4\" class=\"data row0 col4\" >0.01</td>\n",
       "    </tr>\n",
       "    <tr>\n",
       "      <th id=\"T_f8654_level0_row1\" class=\"row_heading level0 row1\" >Item_Visibility</th>\n",
       "      <td id=\"T_f8654_row1_col0\" class=\"data row1 col0\" >-0.01</td>\n",
       "      <td id=\"T_f8654_row1_col1\" class=\"data row1 col1\" >1.00</td>\n",
       "      <td id=\"T_f8654_row1_col2\" class=\"data row1 col2\" >-0.00</td>\n",
       "      <td id=\"T_f8654_row1_col3\" class=\"data row1 col3\" >-0.08</td>\n",
       "      <td id=\"T_f8654_row1_col4\" class=\"data row1 col4\" >-0.13</td>\n",
       "    </tr>\n",
       "    <tr>\n",
       "      <th id=\"T_f8654_level0_row2\" class=\"row_heading level0 row2\" >Item_MRP</th>\n",
       "      <td id=\"T_f8654_row2_col0\" class=\"data row2 col0\" >0.02</td>\n",
       "      <td id=\"T_f8654_row2_col1\" class=\"data row2 col1\" >-0.00</td>\n",
       "      <td id=\"T_f8654_row2_col2\" class=\"data row2 col2\" >1.00</td>\n",
       "      <td id=\"T_f8654_row2_col3\" class=\"data row2 col3\" >0.01</td>\n",
       "      <td id=\"T_f8654_row2_col4\" class=\"data row2 col4\" >0.57</td>\n",
       "    </tr>\n",
       "    <tr>\n",
       "      <th id=\"T_f8654_level0_row3\" class=\"row_heading level0 row3\" >Outlet_Establishment_Year</th>\n",
       "      <td id=\"T_f8654_row3_col0\" class=\"data row3 col0\" >-0.01</td>\n",
       "      <td id=\"T_f8654_row3_col1\" class=\"data row3 col1\" >-0.08</td>\n",
       "      <td id=\"T_f8654_row3_col2\" class=\"data row3 col2\" >0.01</td>\n",
       "      <td id=\"T_f8654_row3_col3\" class=\"data row3 col3\" >1.00</td>\n",
       "      <td id=\"T_f8654_row3_col4\" class=\"data row3 col4\" >-0.05</td>\n",
       "    </tr>\n",
       "    <tr>\n",
       "      <th id=\"T_f8654_level0_row4\" class=\"row_heading level0 row4\" >Item_Outlet_Sales</th>\n",
       "      <td id=\"T_f8654_row4_col0\" class=\"data row4 col0\" >0.01</td>\n",
       "      <td id=\"T_f8654_row4_col1\" class=\"data row4 col1\" >-0.13</td>\n",
       "      <td id=\"T_f8654_row4_col2\" class=\"data row4 col2\" >0.57</td>\n",
       "      <td id=\"T_f8654_row4_col3\" class=\"data row4 col3\" >-0.05</td>\n",
       "      <td id=\"T_f8654_row4_col4\" class=\"data row4 col4\" >1.00</td>\n",
       "    </tr>\n",
       "  </tbody>\n",
       "</table>\n"
      ],
      "text/plain": [
       "<pandas.io.formats.style.Styler at 0x1b747217ac0>"
      ]
     },
     "execution_count": 20,
     "metadata": {},
     "output_type": "execute_result"
    }
   ],
   "source": [
    "klib.corr_mat(df_train) # returns a color-encoded correlation matrix\n"
   ]
  },
  {
   "cell_type": "code",
   "execution_count": 21,
   "id": "eeb7d197",
   "metadata": {},
   "outputs": [
    {
     "data": {
      "text/plain": [
       "<AxesSubplot:title={'center':'Feature-correlation (pearson)'}>"
      ]
     },
     "execution_count": 21,
     "metadata": {},
     "output_type": "execute_result"
    },
    {
     "data": {
      "image/png": "[encoded data removed]",
      "text/plain": [
       "<Figure size 864x720 with 2 Axes>"
      ]
     },
     "metadata": {
      "needs_background": "light"
     },
     "output_type": "display_data"
    }
   ],
   "source": [
    "klib.corr_plot(df_train) # returns a color-encoded heatmap, ideal for correlations\n"
   ]
  },
  {
   "cell_type": "code",
   "execution_count": 27,
   "id": "ac2649a1",
   "metadata": {},
   "outputs": [
    {
     "name": "stdout",
     "output_type": "stream",
     "text": [
      "Large dataset detected, using 10000 random samples for the plots. Summary statistics are still based on the entire dataset.\n"
     ]
    },
    {
     "data": {
      "text/plain": [
       "<AxesSubplot:xlabel='Item_Outlet_Sales', ylabel='Density'>"
      ]
     },
     "execution_count": 27,
     "metadata": {},
     "output_type": "execute_result"
    },
    {
     "data": {
      "image/png": "[encoded data removed]",
      "text/plain": [
       "<Figure size 900x180 with 1 Axes>"
      ]
     },
     "metadata": {
      "needs_background": "light"
     },
     "output_type": "display_data"
    },
    {
     "data": {
      "image/png": "[encoded data removed]",
      "text/plain": [
       "<Figure size 900x180 with 1 Axes>"
      ]
     },
     "metadata": {
      "needs_background": "light"
     },
     "output_type": "display_data"
    },
    {
     "data": {
      "image/png": "[encoded data removed]",
      "text/plain": [
       "<Figure size 900x180 with 1 Axes>"
      ]
     },
     "metadata": {
      "needs_background": "light"
     },
     "output_type": "display_data"
    },
    {
     "data": {
      "image/png": "[encoded data removed]",
      "text/plain": [
       "<Figure size 900x180 with 1 Axes>"
      ]
     },
     "metadata": {
      "needs_background": "light"
     },
     "output_type": "display_data"
    },
    {
     "data": {
      "image/png": "[encoded data removed]",
      "text/plain": [
       "<Figure size 900x180 with 1 Axes>"
      ]
     },
     "metadata": {
      "needs_background": "light"
     },
     "output_type": "display_data"
    }
   ],
   "source": [
    "klib.dist_plot(df_train) # returns a distribution plot for every numeric feature\n"
   ]
  },
  {
   "cell_type": "code",
   "execution_count": 28,
   "id": "c28a439d",
   "metadata": {},
   "outputs": [
    {
     "name": "stdout",
     "output_type": "stream",
     "text": [
      "No missing values found in the dataset.\n"
     ]
    }
   ],
   "source": [
    "klib.missingval_plot(df_train) # returns a figure containing information about missing values"
   ]
  },
  {
   "cell_type": "code",
   "execution_count": null,
   "id": "1c4577a9",
   "metadata": {},
   "outputs": [],
   "source": []
  },
  {
   "cell_type": "markdown",
   "id": "05404d08",
   "metadata": {},
   "source": [
    "# Data Cleaning using Klib Library"
   ]
  },
  {
   "cell_type": "code",
   "execution_count": null,
   "id": "0683278d",
   "metadata": {},
   "outputs": [],
   "source": [
    "# klib.clean - functions for cleaning datasets\n",
    "klib.data_cleaning(df_train) # performs datacleaning (drop duplicates & empty rows/cols, adjust dtypes,...)"
   ]
  },
  {
   "cell_type": "code",
   "execution_count": 43,
   "id": "bb04df1c",
   "metadata": {},
   "outputs": [
    {
     "data": {
      "text/html": [
       "<div>\n",
       "<style scoped>\n",
       "    .dataframe tbody tr th:only-of-type {\n",
       "        vertical-align: middle;\n",
       "    }\n",
       "\n",
       "    .dataframe tbody tr th {\n",
       "        vertical-align: top;\n",
       "    }\n",
       "\n",
       "    .dataframe thead th {\n",
       "        text-align: right;\n",
       "    }\n",
       "</style>\n",
       "<table border=\"1\" class=\"dataframe\">\n",
       "  <thead>\n",
       "    <tr style=\"text-align: right;\">\n",
       "      <th></th>\n",
       "      <th>item_weight</th>\n",
       "      <th>item_fat_content</th>\n",
       "      <th>item_visibility</th>\n",
       "      <th>item_type</th>\n",
       "      <th>item_mrp</th>\n",
       "      <th>outlet_establishment_year</th>\n",
       "      <th>outlet_size</th>\n",
       "      <th>outlet_location_type</th>\n",
       "      <th>outlet_type</th>\n",
       "      <th>item_outlet_sales</th>\n",
       "    </tr>\n",
       "  </thead>\n",
       "  <tbody>\n",
       "    <tr>\n",
       "      <th>0</th>\n",
       "      <td>9.3</td>\n",
       "      <td>Low Fat</td>\n",
       "      <td>0.016047</td>\n",
       "      <td>Dairy</td>\n",
       "      <td>249.809204</td>\n",
       "      <td>1999</td>\n",
       "      <td>Medium</td>\n",
       "      <td>Tier 1</td>\n",
       "      <td>Supermarket Type1</td>\n",
       "      <td>3735.137939</td>\n",
       "    </tr>\n",
       "    <tr>\n",
       "      <th>1</th>\n",
       "      <td>5.92</td>\n",
       "      <td>Regular</td>\n",
       "      <td>0.019278</td>\n",
       "      <td>Soft Drinks</td>\n",
       "      <td>48.269199</td>\n",
       "      <td>2009</td>\n",
       "      <td>Medium</td>\n",
       "      <td>Tier 3</td>\n",
       "      <td>Supermarket Type2</td>\n",
       "      <td>443.422791</td>\n",
       "    </tr>\n",
       "    <tr>\n",
       "      <th>2</th>\n",
       "      <td>17.5</td>\n",
       "      <td>Low Fat</td>\n",
       "      <td>0.01676</td>\n",
       "      <td>Meat</td>\n",
       "      <td>141.617996</td>\n",
       "      <td>1999</td>\n",
       "      <td>Medium</td>\n",
       "      <td>Tier 1</td>\n",
       "      <td>Supermarket Type1</td>\n",
       "      <td>2097.27002</td>\n",
       "    </tr>\n",
       "    <tr>\n",
       "      <th>3</th>\n",
       "      <td>19.200001</td>\n",
       "      <td>Regular</td>\n",
       "      <td>0.0</td>\n",
       "      <td>Fruits and Vegetables</td>\n",
       "      <td>182.095001</td>\n",
       "      <td>1998</td>\n",
       "      <td>Medium</td>\n",
       "      <td>Tier 3</td>\n",
       "      <td>Grocery Store</td>\n",
       "      <td>732.380005</td>\n",
       "    </tr>\n",
       "    <tr>\n",
       "      <th>4</th>\n",
       "      <td>8.93</td>\n",
       "      <td>Low Fat</td>\n",
       "      <td>0.0</td>\n",
       "      <td>Household</td>\n",
       "      <td>53.861401</td>\n",
       "      <td>1987</td>\n",
       "      <td>High</td>\n",
       "      <td>Tier 3</td>\n",
       "      <td>Supermarket Type1</td>\n",
       "      <td>994.7052</td>\n",
       "    </tr>\n",
       "    <tr>\n",
       "      <th>...</th>\n",
       "      <td>...</td>\n",
       "      <td>...</td>\n",
       "      <td>...</td>\n",
       "      <td>...</td>\n",
       "      <td>...</td>\n",
       "      <td>...</td>\n",
       "      <td>...</td>\n",
       "      <td>...</td>\n",
       "      <td>...</td>\n",
       "      <td>...</td>\n",
       "    </tr>\n",
       "    <tr>\n",
       "      <th>12517</th>\n",
       "      <td>12.882102</td>\n",
       "      <td>Regular</td>\n",
       "      <td>0.087422</td>\n",
       "      <td>Frozen Foods</td>\n",
       "      <td>154.462997</td>\n",
       "      <td>1985</td>\n",
       "      <td>Medium</td>\n",
       "      <td>Tier 3</td>\n",
       "      <td>Supermarket Type3</td>\n",
       "      <td>2972.797119</td>\n",
       "    </tr>\n",
       "    <tr>\n",
       "      <th>12518</th>\n",
       "      <td>13.35</td>\n",
       "      <td>Low Fat</td>\n",
       "      <td>0.038745</td>\n",
       "      <td>Snack Foods</td>\n",
       "      <td>239.3564</td>\n",
       "      <td>2007</td>\n",
       "      <td>Medium</td>\n",
       "      <td>Tier 2</td>\n",
       "      <td>Supermarket Type1</td>\n",
       "      <td>3098.633301</td>\n",
       "    </tr>\n",
       "    <tr>\n",
       "      <th>12519</th>\n",
       "      <td>20.1</td>\n",
       "      <td>Low Fat</td>\n",
       "      <td>0.124911</td>\n",
       "      <td>Dairy</td>\n",
       "      <td>109.622803</td>\n",
       "      <td>1998</td>\n",
       "      <td>Medium</td>\n",
       "      <td>Tier 3</td>\n",
       "      <td>Grocery Store</td>\n",
       "      <td>110.522797</td>\n",
       "    </tr>\n",
       "    <tr>\n",
       "      <th>12520</th>\n",
       "      <td>8.185</td>\n",
       "      <td>Low Fat</td>\n",
       "      <td>0.046673</td>\n",
       "      <td>Fruits and Vegetables</td>\n",
       "      <td>48.4692</td>\n",
       "      <td>2009</td>\n",
       "      <td>Medium</td>\n",
       "      <td>Tier 3</td>\n",
       "      <td>Supermarket Type2</td>\n",
       "      <td>591.230408</td>\n",
       "    </tr>\n",
       "    <tr>\n",
       "      <th>12521</th>\n",
       "      <td>9.195</td>\n",
       "      <td>Low Fat</td>\n",
       "      <td>0.048135</td>\n",
       "      <td>Household</td>\n",
       "      <td>107.762199</td>\n",
       "      <td>1999</td>\n",
       "      <td>Medium</td>\n",
       "      <td>Tier 1</td>\n",
       "      <td>Supermarket Type1</td>\n",
       "      <td>529.310974</td>\n",
       "    </tr>\n",
       "  </tbody>\n",
       "</table>\n",
       "<p>12522 rows × 10 columns</p>\n",
       "</div>"
      ],
      "text/plain": [
       "       item_weight item_fat_content  item_visibility              item_type  \\\n",
       "0              9.3          Low Fat         0.016047                  Dairy   \n",
       "1             5.92          Regular         0.019278            Soft Drinks   \n",
       "2             17.5          Low Fat          0.01676                   Meat   \n",
       "3        19.200001          Regular              0.0  Fruits and Vegetables   \n",
       "4             8.93          Low Fat              0.0              Household   \n",
       "...            ...              ...              ...                    ...   \n",
       "12517    12.882102          Regular         0.087422           Frozen Foods   \n",
       "12518        13.35          Low Fat         0.038745            Snack Foods   \n",
       "12519         20.1          Low Fat         0.124911                  Dairy   \n",
       "12520        8.185          Low Fat         0.046673  Fruits and Vegetables   \n",
       "12521        9.195          Low Fat         0.048135              Household   \n",
       "\n",
       "         item_mrp  outlet_establishment_year outlet_size outlet_location_type  \\\n",
       "0      249.809204                       1999      Medium               Tier 1   \n",
       "1       48.269199                       2009      Medium               Tier 3   \n",
       "2      141.617996                       1999      Medium               Tier 1   \n",
       "3      182.095001                       1998      Medium               Tier 3   \n",
       "4       53.861401                       1987        High               Tier 3   \n",
       "...           ...                        ...         ...                  ...   \n",
       "12517  154.462997                       1985      Medium               Tier 3   \n",
       "12518    239.3564                       2007      Medium               Tier 2   \n",
       "12519  109.622803                       1998      Medium               Tier 3   \n",
       "12520     48.4692                       2009      Medium               Tier 3   \n",
       "12521  107.762199                       1999      Medium               Tier 1   \n",
       "\n",
       "             outlet_type  item_outlet_sales  \n",
       "0      Supermarket Type1        3735.137939  \n",
       "1      Supermarket Type2         443.422791  \n",
       "2      Supermarket Type1         2097.27002  \n",
       "3          Grocery Store         732.380005  \n",
       "4      Supermarket Type1           994.7052  \n",
       "...                  ...                ...  \n",
       "12517  Supermarket Type3        2972.797119  \n",
       "12518  Supermarket Type1        3098.633301  \n",
       "12519      Grocery Store         110.522797  \n",
       "12520  Supermarket Type2         591.230408  \n",
       "12521  Supermarket Type1         529.310974  \n",
       "\n",
       "[12522 rows x 10 columns]"
      ]
     },
     "execution_count": 43,
     "metadata": {},
     "output_type": "execute_result"
    }
   ],
   "source": [
    "klib.clean_column_names(df_train) # cleans and standardizes column names, also called inside data_cleaning()\n"
   ]
  },
  {
   "cell_type": "code",
   "execution_count": 44,
   "id": "2ca36858",
   "metadata": {},
   "outputs": [
    {
     "name": "stdout",
     "output_type": "stream",
     "text": [
      "<class 'pandas.core.frame.DataFrame'>\n",
      "RangeIndex: 12522 entries, 0 to 12521\n",
      "Data columns (total 10 columns):\n",
      " #   Column                     Non-Null Count  Dtype   \n",
      "---  ------                     --------------  -----   \n",
      " 0   item_weight                12522 non-null  Float32 \n",
      " 1   item_fat_content           12522 non-null  category\n",
      " 2   item_visibility            12522 non-null  Float32 \n",
      " 3   item_type                  12522 non-null  category\n",
      " 4   item_mrp                   12522 non-null  Float32 \n",
      " 5   outlet_establishment_year  12522 non-null  int16   \n",
      " 6   outlet_size                12522 non-null  category\n",
      " 7   outlet_location_type       12522 non-null  category\n",
      " 8   outlet_type                12522 non-null  category\n",
      " 9   item_outlet_sales          12522 non-null  Float32 \n",
      "dtypes: Float32(4), category(5), int16(1)\n",
      "memory usage: 331.6 KB\n"
     ]
    }
   ],
   "source": [
    "df_train.info()"
   ]
  },
  {
   "cell_type": "code",
   "execution_count": 45,
   "id": "159904a2",
   "metadata": {},
   "outputs": [
    {
     "name": "stdout",
     "output_type": "stream",
     "text": [
      "<class 'pandas.core.frame.DataFrame'>\n",
      "RangeIndex: 12522 entries, 0 to 12521\n",
      "Data columns (total 10 columns):\n",
      " #   Column                     Non-Null Count  Dtype   \n",
      "---  ------                     --------------  -----   \n",
      " 0   item_weight                12522 non-null  Float32 \n",
      " 1   item_fat_content           12522 non-null  category\n",
      " 2   item_visibility            12522 non-null  Float32 \n",
      " 3   item_type                  12522 non-null  category\n",
      " 4   item_mrp                   12522 non-null  Float32 \n",
      " 5   outlet_establishment_year  12522 non-null  int16   \n",
      " 6   outlet_size                12522 non-null  category\n",
      " 7   outlet_location_type       12522 non-null  category\n",
      " 8   outlet_type                12522 non-null  category\n",
      " 9   item_outlet_sales          12522 non-null  Float32 \n",
      "dtypes: Float32(4), category(5), int16(1)\n",
      "memory usage: 331.6 KB\n"
     ]
    }
   ],
   "source": [
    "df_train=klib.convert_datatypes(df_train) # converts existing to more efficient dtypes, also called inside data_cleaning()\n",
    "df_train.info()"
   ]
  },
  {
   "cell_type": "code",
   "execution_count": 46,
   "id": "28dc5db8",
   "metadata": {},
   "outputs": [
    {
     "data": {
      "text/html": [
       "<div>\n",
       "<style scoped>\n",
       "    .dataframe tbody tr th:only-of-type {\n",
       "        vertical-align: middle;\n",
       "    }\n",
       "\n",
       "    .dataframe tbody tr th {\n",
       "        vertical-align: top;\n",
       "    }\n",
       "\n",
       "    .dataframe thead th {\n",
       "        text-align: right;\n",
       "    }\n",
       "</style>\n",
       "<table border=\"1\" class=\"dataframe\">\n",
       "  <thead>\n",
       "    <tr style=\"text-align: right;\">\n",
       "      <th></th>\n",
       "      <th>item_weight</th>\n",
       "      <th>item_fat_content</th>\n",
       "      <th>item_visibility</th>\n",
       "      <th>item_type</th>\n",
       "      <th>item_mrp</th>\n",
       "      <th>outlet_establishment_year</th>\n",
       "      <th>outlet_size</th>\n",
       "      <th>outlet_location_type</th>\n",
       "      <th>outlet_type</th>\n",
       "      <th>item_outlet_sales</th>\n",
       "    </tr>\n",
       "  </thead>\n",
       "  <tbody>\n",
       "    <tr>\n",
       "      <th>0</th>\n",
       "      <td>9.3</td>\n",
       "      <td>Low Fat</td>\n",
       "      <td>0.016047</td>\n",
       "      <td>Dairy</td>\n",
       "      <td>249.809204</td>\n",
       "      <td>1999</td>\n",
       "      <td>Medium</td>\n",
       "      <td>Tier 1</td>\n",
       "      <td>Supermarket Type1</td>\n",
       "      <td>3735.137939</td>\n",
       "    </tr>\n",
       "    <tr>\n",
       "      <th>1</th>\n",
       "      <td>5.92</td>\n",
       "      <td>Regular</td>\n",
       "      <td>0.019278</td>\n",
       "      <td>Soft Drinks</td>\n",
       "      <td>48.269199</td>\n",
       "      <td>2009</td>\n",
       "      <td>Medium</td>\n",
       "      <td>Tier 3</td>\n",
       "      <td>Supermarket Type2</td>\n",
       "      <td>443.422791</td>\n",
       "    </tr>\n",
       "    <tr>\n",
       "      <th>2</th>\n",
       "      <td>17.5</td>\n",
       "      <td>Low Fat</td>\n",
       "      <td>0.01676</td>\n",
       "      <td>Meat</td>\n",
       "      <td>141.617996</td>\n",
       "      <td>1999</td>\n",
       "      <td>Medium</td>\n",
       "      <td>Tier 1</td>\n",
       "      <td>Supermarket Type1</td>\n",
       "      <td>2097.27002</td>\n",
       "    </tr>\n",
       "    <tr>\n",
       "      <th>3</th>\n",
       "      <td>19.200001</td>\n",
       "      <td>Regular</td>\n",
       "      <td>0.0</td>\n",
       "      <td>Fruits and Vegetables</td>\n",
       "      <td>182.095001</td>\n",
       "      <td>1998</td>\n",
       "      <td>Medium</td>\n",
       "      <td>Tier 3</td>\n",
       "      <td>Grocery Store</td>\n",
       "      <td>732.380005</td>\n",
       "    </tr>\n",
       "    <tr>\n",
       "      <th>4</th>\n",
       "      <td>8.93</td>\n",
       "      <td>Low Fat</td>\n",
       "      <td>0.0</td>\n",
       "      <td>Household</td>\n",
       "      <td>53.861401</td>\n",
       "      <td>1987</td>\n",
       "      <td>High</td>\n",
       "      <td>Tier 3</td>\n",
       "      <td>Supermarket Type1</td>\n",
       "      <td>994.7052</td>\n",
       "    </tr>\n",
       "    <tr>\n",
       "      <th>...</th>\n",
       "      <td>...</td>\n",
       "      <td>...</td>\n",
       "      <td>...</td>\n",
       "      <td>...</td>\n",
       "      <td>...</td>\n",
       "      <td>...</td>\n",
       "      <td>...</td>\n",
       "      <td>...</td>\n",
       "      <td>...</td>\n",
       "      <td>...</td>\n",
       "    </tr>\n",
       "    <tr>\n",
       "      <th>12517</th>\n",
       "      <td>12.882102</td>\n",
       "      <td>Regular</td>\n",
       "      <td>0.087422</td>\n",
       "      <td>Frozen Foods</td>\n",
       "      <td>154.462997</td>\n",
       "      <td>1985</td>\n",
       "      <td>Medium</td>\n",
       "      <td>Tier 3</td>\n",
       "      <td>Supermarket Type3</td>\n",
       "      <td>2972.797119</td>\n",
       "    </tr>\n",
       "    <tr>\n",
       "      <th>12518</th>\n",
       "      <td>13.35</td>\n",
       "      <td>Low Fat</td>\n",
       "      <td>0.038745</td>\n",
       "      <td>Snack Foods</td>\n",
       "      <td>239.3564</td>\n",
       "      <td>2007</td>\n",
       "      <td>Medium</td>\n",
       "      <td>Tier 2</td>\n",
       "      <td>Supermarket Type1</td>\n",
       "      <td>3098.633301</td>\n",
       "    </tr>\n",
       "    <tr>\n",
       "      <th>12519</th>\n",
       "      <td>20.1</td>\n",
       "      <td>Low Fat</td>\n",
       "      <td>0.124911</td>\n",
       "      <td>Dairy</td>\n",
       "      <td>109.622803</td>\n",
       "      <td>1998</td>\n",
       "      <td>Medium</td>\n",
       "      <td>Tier 3</td>\n",
       "      <td>Grocery Store</td>\n",
       "      <td>110.522797</td>\n",
       "    </tr>\n",
       "    <tr>\n",
       "      <th>12520</th>\n",
       "      <td>8.185</td>\n",
       "      <td>Low Fat</td>\n",
       "      <td>0.046673</td>\n",
       "      <td>Fruits and Vegetables</td>\n",
       "      <td>48.4692</td>\n",
       "      <td>2009</td>\n",
       "      <td>Medium</td>\n",
       "      <td>Tier 3</td>\n",
       "      <td>Supermarket Type2</td>\n",
       "      <td>591.230408</td>\n",
       "    </tr>\n",
       "    <tr>\n",
       "      <th>12521</th>\n",
       "      <td>9.195</td>\n",
       "      <td>Low Fat</td>\n",
       "      <td>0.048135</td>\n",
       "      <td>Household</td>\n",
       "      <td>107.762199</td>\n",
       "      <td>1999</td>\n",
       "      <td>Medium</td>\n",
       "      <td>Tier 1</td>\n",
       "      <td>Supermarket Type1</td>\n",
       "      <td>529.310974</td>\n",
       "    </tr>\n",
       "  </tbody>\n",
       "</table>\n",
       "<p>12522 rows × 10 columns</p>\n",
       "</div>"
      ],
      "text/plain": [
       "       item_weight item_fat_content  item_visibility              item_type  \\\n",
       "0              9.3          Low Fat         0.016047                  Dairy   \n",
       "1             5.92          Regular         0.019278            Soft Drinks   \n",
       "2             17.5          Low Fat          0.01676                   Meat   \n",
       "3        19.200001          Regular              0.0  Fruits and Vegetables   \n",
       "4             8.93          Low Fat              0.0              Household   \n",
       "...            ...              ...              ...                    ...   \n",
       "12517    12.882102          Regular         0.087422           Frozen Foods   \n",
       "12518        13.35          Low Fat         0.038745            Snack Foods   \n",
       "12519         20.1          Low Fat         0.124911                  Dairy   \n",
       "12520        8.185          Low Fat         0.046673  Fruits and Vegetables   \n",
       "12521        9.195          Low Fat         0.048135              Household   \n",
       "\n",
       "         item_mrp  outlet_establishment_year outlet_size outlet_location_type  \\\n",
       "0      249.809204                       1999      Medium               Tier 1   \n",
       "1       48.269199                       2009      Medium               Tier 3   \n",
       "2      141.617996                       1999      Medium               Tier 1   \n",
       "3      182.095001                       1998      Medium               Tier 3   \n",
       "4       53.861401                       1987        High               Tier 3   \n",
       "...           ...                        ...         ...                  ...   \n",
       "12517  154.462997                       1985      Medium               Tier 3   \n",
       "12518    239.3564                       2007      Medium               Tier 2   \n",
       "12519  109.622803                       1998      Medium               Tier 3   \n",
       "12520     48.4692                       2009      Medium               Tier 3   \n",
       "12521  107.762199                       1999      Medium               Tier 1   \n",
       "\n",
       "             outlet_type  item_outlet_sales  \n",
       "0      Supermarket Type1        3735.137939  \n",
       "1      Supermarket Type2         443.422791  \n",
       "2      Supermarket Type1         2097.27002  \n",
       "3          Grocery Store         732.380005  \n",
       "4      Supermarket Type1           994.7052  \n",
       "...                  ...                ...  \n",
       "12517  Supermarket Type3        2972.797119  \n",
       "12518  Supermarket Type1        3098.633301  \n",
       "12519      Grocery Store         110.522797  \n",
       "12520  Supermarket Type2         591.230408  \n",
       "12521  Supermarket Type1         529.310974  \n",
       "\n",
       "[12522 rows x 10 columns]"
      ]
     },
     "execution_count": 46,
     "metadata": {},
     "output_type": "execute_result"
    }
   ],
   "source": [
    "klib.mv_col_handling(df_train)"
   ]
  },
  {
   "cell_type": "markdown",
   "id": "df01bde4",
   "metadata": {},
   "source": [
    "# Preprocessing Task before Model Building"
   ]
  },
  {
   "cell_type": "markdown",
   "id": "16a2db41",
   "metadata": {},
   "source": [
    "## 1) Label Encoding"
   ]
  },
  {
   "cell_type": "code",
   "execution_count": 47,
   "id": "0531cb18",
   "metadata": {},
   "outputs": [],
   "source": [
    "from sklearn.preprocessing import LabelEncoder\n",
    "le=LabelEncoder()"
   ]
  },
  {
   "cell_type": "code",
   "execution_count": 49,
   "id": "1e9fa99e",
   "metadata": {},
   "outputs": [],
   "source": [
    "df_train['item_fat_content']= le.fit_transform(df_train['item_fat_content'])\n",
    "df_train['item_type']= le.fit_transform(df_train['item_type'])\n",
    "df_train['outlet_size']= le.fit_transform(df_train['outlet_size'])\n",
    "df_train['outlet_location_type']= le.fit_transform(df_train['outlet_location_type'])\n",
    "df_train['outlet_type']= le.fit_transform(df_train['outlet_type'])"
   ]
  },
  {
   "cell_type": "code",
   "execution_count": 50,
   "id": "b79476e6",
   "metadata": {},
   "outputs": [
    {
     "data": {
      "text/html": [
       "<div>\n",
       "<style scoped>\n",
       "    .dataframe tbody tr th:only-of-type {\n",
       "        vertical-align: middle;\n",
       "    }\n",
       "\n",
       "    .dataframe tbody tr th {\n",
       "        vertical-align: top;\n",
       "    }\n",
       "\n",
       "    .dataframe thead th {\n",
       "        text-align: right;\n",
       "    }\n",
       "</style>\n",
       "<table border=\"1\" class=\"dataframe\">\n",
       "  <thead>\n",
       "    <tr style=\"text-align: right;\">\n",
       "      <th></th>\n",
       "      <th>item_weight</th>\n",
       "      <th>item_fat_content</th>\n",
       "      <th>item_visibility</th>\n",
       "      <th>item_type</th>\n",
       "      <th>item_mrp</th>\n",
       "      <th>outlet_establishment_year</th>\n",
       "      <th>outlet_size</th>\n",
       "      <th>outlet_location_type</th>\n",
       "      <th>outlet_type</th>\n",
       "      <th>item_outlet_sales</th>\n",
       "    </tr>\n",
       "  </thead>\n",
       "  <tbody>\n",
       "    <tr>\n",
       "      <th>0</th>\n",
       "      <td>9.3</td>\n",
       "      <td>1</td>\n",
       "      <td>0.016047</td>\n",
       "      <td>4</td>\n",
       "      <td>249.809204</td>\n",
       "      <td>1999</td>\n",
       "      <td>1</td>\n",
       "      <td>0</td>\n",
       "      <td>1</td>\n",
       "      <td>3735.137939</td>\n",
       "    </tr>\n",
       "    <tr>\n",
       "      <th>1</th>\n",
       "      <td>5.92</td>\n",
       "      <td>2</td>\n",
       "      <td>0.019278</td>\n",
       "      <td>14</td>\n",
       "      <td>48.269199</td>\n",
       "      <td>2009</td>\n",
       "      <td>1</td>\n",
       "      <td>2</td>\n",
       "      <td>2</td>\n",
       "      <td>443.422791</td>\n",
       "    </tr>\n",
       "    <tr>\n",
       "      <th>2</th>\n",
       "      <td>17.5</td>\n",
       "      <td>1</td>\n",
       "      <td>0.01676</td>\n",
       "      <td>10</td>\n",
       "      <td>141.617996</td>\n",
       "      <td>1999</td>\n",
       "      <td>1</td>\n",
       "      <td>0</td>\n",
       "      <td>1</td>\n",
       "      <td>2097.27002</td>\n",
       "    </tr>\n",
       "    <tr>\n",
       "      <th>3</th>\n",
       "      <td>19.200001</td>\n",
       "      <td>2</td>\n",
       "      <td>0.0</td>\n",
       "      <td>6</td>\n",
       "      <td>182.095001</td>\n",
       "      <td>1998</td>\n",
       "      <td>1</td>\n",
       "      <td>2</td>\n",
       "      <td>0</td>\n",
       "      <td>732.380005</td>\n",
       "    </tr>\n",
       "    <tr>\n",
       "      <th>4</th>\n",
       "      <td>8.93</td>\n",
       "      <td>1</td>\n",
       "      <td>0.0</td>\n",
       "      <td>9</td>\n",
       "      <td>53.861401</td>\n",
       "      <td>1987</td>\n",
       "      <td>0</td>\n",
       "      <td>2</td>\n",
       "      <td>1</td>\n",
       "      <td>994.7052</td>\n",
       "    </tr>\n",
       "    <tr>\n",
       "      <th>...</th>\n",
       "      <td>...</td>\n",
       "      <td>...</td>\n",
       "      <td>...</td>\n",
       "      <td>...</td>\n",
       "      <td>...</td>\n",
       "      <td>...</td>\n",
       "      <td>...</td>\n",
       "      <td>...</td>\n",
       "      <td>...</td>\n",
       "      <td>...</td>\n",
       "    </tr>\n",
       "    <tr>\n",
       "      <th>12517</th>\n",
       "      <td>12.882102</td>\n",
       "      <td>2</td>\n",
       "      <td>0.087422</td>\n",
       "      <td>5</td>\n",
       "      <td>154.462997</td>\n",
       "      <td>1985</td>\n",
       "      <td>1</td>\n",
       "      <td>2</td>\n",
       "      <td>3</td>\n",
       "      <td>2972.797119</td>\n",
       "    </tr>\n",
       "    <tr>\n",
       "      <th>12518</th>\n",
       "      <td>13.35</td>\n",
       "      <td>1</td>\n",
       "      <td>0.038745</td>\n",
       "      <td>13</td>\n",
       "      <td>239.3564</td>\n",
       "      <td>2007</td>\n",
       "      <td>1</td>\n",
       "      <td>1</td>\n",
       "      <td>1</td>\n",
       "      <td>3098.633301</td>\n",
       "    </tr>\n",
       "    <tr>\n",
       "      <th>12519</th>\n",
       "      <td>20.1</td>\n",
       "      <td>1</td>\n",
       "      <td>0.124911</td>\n",
       "      <td>4</td>\n",
       "      <td>109.622803</td>\n",
       "      <td>1998</td>\n",
       "      <td>1</td>\n",
       "      <td>2</td>\n",
       "      <td>0</td>\n",
       "      <td>110.522797</td>\n",
       "    </tr>\n",
       "    <tr>\n",
       "      <th>12520</th>\n",
       "      <td>8.185</td>\n",
       "      <td>1</td>\n",
       "      <td>0.046673</td>\n",
       "      <td>6</td>\n",
       "      <td>48.4692</td>\n",
       "      <td>2009</td>\n",
       "      <td>1</td>\n",
       "      <td>2</td>\n",
       "      <td>2</td>\n",
       "      <td>591.230408</td>\n",
       "    </tr>\n",
       "    <tr>\n",
       "      <th>12521</th>\n",
       "      <td>9.195</td>\n",
       "      <td>1</td>\n",
       "      <td>0.048135</td>\n",
       "      <td>9</td>\n",
       "      <td>107.762199</td>\n",
       "      <td>1999</td>\n",
       "      <td>1</td>\n",
       "      <td>0</td>\n",
       "      <td>1</td>\n",
       "      <td>529.310974</td>\n",
       "    </tr>\n",
       "  </tbody>\n",
       "</table>\n",
       "<p>12522 rows × 10 columns</p>\n",
       "</div>"
      ],
      "text/plain": [
       "       item_weight  item_fat_content  item_visibility  item_type    item_mrp  \\\n",
       "0              9.3                 1         0.016047          4  249.809204   \n",
       "1             5.92                 2         0.019278         14   48.269199   \n",
       "2             17.5                 1          0.01676         10  141.617996   \n",
       "3        19.200001                 2              0.0          6  182.095001   \n",
       "4             8.93                 1              0.0          9   53.861401   \n",
       "...            ...               ...              ...        ...         ...   \n",
       "12517    12.882102                 2         0.087422          5  154.462997   \n",
       "12518        13.35                 1         0.038745         13    239.3564   \n",
       "12519         20.1                 1         0.124911          4  109.622803   \n",
       "12520        8.185                 1         0.046673          6     48.4692   \n",
       "12521        9.195                 1         0.048135          9  107.762199   \n",
       "\n",
       "       outlet_establishment_year  outlet_size  outlet_location_type  \\\n",
       "0                           1999            1                     0   \n",
       "1                           2009            1                     2   \n",
       "2                           1999            1                     0   \n",
       "3                           1998            1                     2   \n",
       "4                           1987            0                     2   \n",
       "...                          ...          ...                   ...   \n",
       "12517                       1985            1                     2   \n",
       "12518                       2007            1                     1   \n",
       "12519                       1998            1                     2   \n",
       "12520                       2009            1                     2   \n",
       "12521                       1999            1                     0   \n",
       "\n",
       "       outlet_type  item_outlet_sales  \n",
       "0                1        3735.137939  \n",
       "1                2         443.422791  \n",
       "2                1         2097.27002  \n",
       "3                0         732.380005  \n",
       "4                1           994.7052  \n",
       "...            ...                ...  \n",
       "12517            3        2972.797119  \n",
       "12518            1        3098.633301  \n",
       "12519            0         110.522797  \n",
       "12520            2         591.230408  \n",
       "12521            1         529.310974  \n",
       "\n",
       "[12522 rows x 10 columns]"
      ]
     },
     "execution_count": 50,
     "metadata": {},
     "output_type": "execute_result"
    }
   ],
   "source": [
    "df_train"
   ]
  },
  {
   "cell_type": "markdown",
   "id": "81570326",
   "metadata": {},
   "source": [
    "# 2) Splitting our data into train and test"
   ]
  },
  {
   "cell_type": "code",
   "execution_count": 52,
   "id": "620b4b62",
   "metadata": {},
   "outputs": [],
   "source": [
    "X=df_train.drop('item_outlet_sales',axis=1)"
   ]
  },
  {
   "cell_type": "code",
   "execution_count": 53,
   "id": "bfdb5ba9",
   "metadata": {},
   "outputs": [],
   "source": [
    "Y=df_train['item_outlet_sales']"
   ]
  },
  {
   "cell_type": "code",
   "execution_count": 54,
   "id": "fa0db332",
   "metadata": {},
   "outputs": [],
   "source": [
    "from sklearn.model_selection import train_test_split\n",
    "\n",
    "X_train, X_test, Y_train, Y_test = train_test_split(X,Y, random_state=101, test_size=0.2)"
   ]
  },
  {
   "cell_type": "markdown",
   "id": "562b0f4e",
   "metadata": {},
   "source": [
    "# 3) Standarization "
   ]
  },
  {
   "cell_type": "code",
   "execution_count": 55,
   "id": "162ff24e",
   "metadata": {},
   "outputs": [
    {
     "data": {
      "text/html": [
       "<div>\n",
       "<style scoped>\n",
       "    .dataframe tbody tr th:only-of-type {\n",
       "        vertical-align: middle;\n",
       "    }\n",
       "\n",
       "    .dataframe tbody tr th {\n",
       "        vertical-align: top;\n",
       "    }\n",
       "\n",
       "    .dataframe thead th {\n",
       "        text-align: right;\n",
       "    }\n",
       "</style>\n",
       "<table border=\"1\" class=\"dataframe\">\n",
       "  <thead>\n",
       "    <tr style=\"text-align: right;\">\n",
       "      <th></th>\n",
       "      <th>item_weight</th>\n",
       "      <th>item_fat_content</th>\n",
       "      <th>item_visibility</th>\n",
       "      <th>item_type</th>\n",
       "      <th>item_mrp</th>\n",
       "      <th>outlet_establishment_year</th>\n",
       "      <th>outlet_size</th>\n",
       "      <th>outlet_location_type</th>\n",
       "      <th>outlet_type</th>\n",
       "    </tr>\n",
       "  </thead>\n",
       "  <tbody>\n",
       "    <tr>\n",
       "      <th>count</th>\n",
       "      <td>12522.000000</td>\n",
       "      <td>12522.000000</td>\n",
       "      <td>12522.000000</td>\n",
       "      <td>12522.000000</td>\n",
       "      <td>12522.000000</td>\n",
       "      <td>12522.000000</td>\n",
       "      <td>12522.00000</td>\n",
       "      <td>12522.000000</td>\n",
       "      <td>12522.000000</td>\n",
       "    </tr>\n",
       "    <tr>\n",
       "      <th>mean</th>\n",
       "      <td>12.882102</td>\n",
       "      <td>1.368152</td>\n",
       "      <td>0.066044</td>\n",
       "      <td>7.228079</td>\n",
       "      <td>140.940505</td>\n",
       "      <td>1997.854336</td>\n",
       "      <td>1.17042</td>\n",
       "      <td>1.111723</td>\n",
       "      <td>1.199409</td>\n",
       "    </tr>\n",
       "    <tr>\n",
       "      <th>std</th>\n",
       "      <td>4.233438</td>\n",
       "      <td>0.644490</td>\n",
       "      <td>0.051520</td>\n",
       "      <td>4.209821</td>\n",
       "      <td>62.364311</td>\n",
       "      <td>8.344254</td>\n",
       "      <td>0.60138</td>\n",
       "      <td>0.811265</td>\n",
       "      <td>0.792156</td>\n",
       "    </tr>\n",
       "    <tr>\n",
       "      <th>min</th>\n",
       "      <td>4.555000</td>\n",
       "      <td>0.000000</td>\n",
       "      <td>0.000000</td>\n",
       "      <td>0.000000</td>\n",
       "      <td>31.290001</td>\n",
       "      <td>1985.000000</td>\n",
       "      <td>0.00000</td>\n",
       "      <td>0.000000</td>\n",
       "      <td>0.000000</td>\n",
       "    </tr>\n",
       "    <tr>\n",
       "      <th>25%</th>\n",
       "      <td>9.395000</td>\n",
       "      <td>1.000000</td>\n",
       "      <td>0.026982</td>\n",
       "      <td>4.000000</td>\n",
       "      <td>93.646202</td>\n",
       "      <td>1987.000000</td>\n",
       "      <td>1.00000</td>\n",
       "      <td>0.000000</td>\n",
       "      <td>1.000000</td>\n",
       "    </tr>\n",
       "    <tr>\n",
       "      <th>50%</th>\n",
       "      <td>12.882102</td>\n",
       "      <td>1.000000</td>\n",
       "      <td>0.053981</td>\n",
       "      <td>6.000000</td>\n",
       "      <td>142.914093</td>\n",
       "      <td>1999.000000</td>\n",
       "      <td>1.00000</td>\n",
       "      <td>1.000000</td>\n",
       "      <td>1.000000</td>\n",
       "    </tr>\n",
       "    <tr>\n",
       "      <th>75%</th>\n",
       "      <td>16.100000</td>\n",
       "      <td>2.000000</td>\n",
       "      <td>0.094292</td>\n",
       "      <td>10.000000</td>\n",
       "      <td>186.024002</td>\n",
       "      <td>2004.000000</td>\n",
       "      <td>2.00000</td>\n",
       "      <td>2.000000</td>\n",
       "      <td>1.000000</td>\n",
       "    </tr>\n",
       "    <tr>\n",
       "      <th>max</th>\n",
       "      <td>21.350000</td>\n",
       "      <td>4.000000</td>\n",
       "      <td>0.328391</td>\n",
       "      <td>15.000000</td>\n",
       "      <td>266.888397</td>\n",
       "      <td>2009.000000</td>\n",
       "      <td>2.00000</td>\n",
       "      <td>2.000000</td>\n",
       "      <td>3.000000</td>\n",
       "    </tr>\n",
       "  </tbody>\n",
       "</table>\n",
       "</div>"
      ],
      "text/plain": [
       "        item_weight  item_fat_content  item_visibility     item_type  \\\n",
       "count  12522.000000      12522.000000     12522.000000  12522.000000   \n",
       "mean      12.882102          1.368152         0.066044      7.228079   \n",
       "std        4.233438          0.644490         0.051520      4.209821   \n",
       "min        4.555000          0.000000         0.000000      0.000000   \n",
       "25%        9.395000          1.000000         0.026982      4.000000   \n",
       "50%       12.882102          1.000000         0.053981      6.000000   \n",
       "75%       16.100000          2.000000         0.094292     10.000000   \n",
       "max       21.350000          4.000000         0.328391     15.000000   \n",
       "\n",
       "           item_mrp  outlet_establishment_year  outlet_size  \\\n",
       "count  12522.000000               12522.000000  12522.00000   \n",
       "mean     140.940505                1997.854336      1.17042   \n",
       "std       62.364311                   8.344254      0.60138   \n",
       "min       31.290001                1985.000000      0.00000   \n",
       "25%       93.646202                1987.000000      1.00000   \n",
       "50%      142.914093                1999.000000      1.00000   \n",
       "75%      186.024002                2004.000000      2.00000   \n",
       "max      266.888397                2009.000000      2.00000   \n",
       "\n",
       "       outlet_location_type   outlet_type  \n",
       "count          12522.000000  12522.000000  \n",
       "mean               1.111723      1.199409  \n",
       "std                0.811265      0.792156  \n",
       "min                0.000000      0.000000  \n",
       "25%                0.000000      1.000000  \n",
       "50%                1.000000      1.000000  \n",
       "75%                2.000000      1.000000  \n",
       "max                2.000000      3.000000  "
      ]
     },
     "execution_count": 55,
     "metadata": {},
     "output_type": "execute_result"
    }
   ],
   "source": [
    "X.describe()"
   ]
  },
  {
   "cell_type": "code",
   "execution_count": 56,
   "id": "817c09ea",
   "metadata": {},
   "outputs": [],
   "source": [
    "from sklearn.preprocessing import StandardScaler\n",
    "sc= StandardScaler()"
   ]
  },
  {
   "cell_type": "code",
   "execution_count": 57,
   "id": "82ea7ccd",
   "metadata": {},
   "outputs": [],
   "source": [
    "X_train_std= sc.fit_transform(X_train)"
   ]
  },
  {
   "cell_type": "code",
   "execution_count": 58,
   "id": "e68349e9",
   "metadata": {},
   "outputs": [],
   "source": [
    "X_test_std= sc.transform(X_test)"
   ]
  },
  {
   "cell_type": "code",
   "execution_count": 79,
   "id": "0769d89d",
   "metadata": {},
   "outputs": [
    {
     "data": {
      "text/plain": [
       "array([[ 0.51774041,  0.97841035, -0.89217346, ...,  1.38648873,\n",
       "        -0.13992165, -0.25436806],\n",
       "       [ 1.10766618, -2.12210737, -1.08269207, ..., -0.27799564,\n",
       "        -0.13992165, -0.25436806],\n",
       "       [-0.01319278, -0.57184851, -0.83969367, ..., -0.27799564,\n",
       "        -1.37263509, -0.25436806],\n",
       "       ...,\n",
       "       [-0.09578248, -0.57184851, -0.91312751, ...,  1.38648873,\n",
       "        -1.37263509, -0.25436806],\n",
       "       [-0.75767927,  0.97841035,  1.22111052, ..., -0.27799564,\n",
       "        -0.13992165, -0.25436806],\n",
       "       [ 0.65932246, -0.57184851,  1.84705756, ..., -0.27799564,\n",
       "         1.09279179,  1.01203595]])"
      ]
     },
     "execution_count": 79,
     "metadata": {},
     "output_type": "execute_result"
    }
   ],
   "source": [
    "X_train_std"
   ]
  },
  {
   "cell_type": "code",
   "execution_count": 80,
   "id": "21923d36",
   "metadata": {},
   "outputs": [
    {
     "data": {
      "text/plain": [
       "array([[-1.29451162,  0.97841035, -0.86041662, ...,  1.38648873,\n",
       "        -0.13992165, -0.25436806],\n",
       "       [ 0.44694927, -0.57184851, -0.40955757, ..., -1.94248002,\n",
       "         1.09279179, -0.25436806],\n",
       "       [-0.00561775, -0.57184851, -1.27830507, ..., -0.27799564,\n",
       "         1.09279179,  2.27843995],\n",
       "       ...,\n",
       "       [-0.01319278, -0.57184851,  0.6395864 , ...,  1.38648873,\n",
       "        -1.37263509, -0.25436806],\n",
       "       [ 0.5413373 , -0.57184851,  0.6059881 , ..., -0.27799564,\n",
       "        -0.13992165, -0.25436806],\n",
       "       [ 1.0486736 , -0.57184851,  1.96395848, ...,  1.38648873,\n",
       "        -0.13992165, -0.25436806]])"
      ]
     },
     "execution_count": 80,
     "metadata": {},
     "output_type": "execute_result"
    }
   ],
   "source": [
    "X_test_std"
   ]
  },
  {
   "cell_type": "code",
   "execution_count": 59,
   "id": "1cb2323d",
   "metadata": {},
   "outputs": [
    {
     "data": {
      "text/plain": [
       "7358    2856.281982\n",
       "6147    2599.283203\n",
       "4826    2165.181641\n",
       "6356     108.525398\n",
       "5284     392.821991\n",
       "           ...     \n",
       "599     5502.836914\n",
       "5695    1436.796387\n",
       "8006    2167.844727\n",
       "1361    2700.484863\n",
       "1547     829.586792\n",
       "Name: item_outlet_sales, Length: 10017, dtype: Float32"
      ]
     },
     "execution_count": 59,
     "metadata": {},
     "output_type": "execute_result"
    }
   ],
   "source": [
    "Y_train"
   ]
  },
  {
   "cell_type": "code",
   "execution_count": 60,
   "id": "71128a49",
   "metadata": {},
   "outputs": [
    {
     "data": {
      "text/plain": [
       "9389     4643.955078\n",
       "1218      918.804016\n",
       "4594     3719.158691\n",
       "5021     1491.391968\n",
       "10981    2570.653809\n",
       "            ...     \n",
       "9415     3115.944092\n",
       "7350     3950.191406\n",
       "3568      540.629578\n",
       "5156     1506.039551\n",
       "814      2109.254395\n",
       "Name: item_outlet_sales, Length: 2505, dtype: Float32"
      ]
     },
     "execution_count": 60,
     "metadata": {},
     "output_type": "execute_result"
    }
   ],
   "source": [
    "Y_test"
   ]
  },
  {
   "cell_type": "code",
   "execution_count": 61,
   "id": "7499a470",
   "metadata": {},
   "outputs": [],
   "source": [
    "import joblib"
   ]
  },
  {
   "cell_type": "code",
   "execution_count": 63,
   "id": "089eb809",
   "metadata": {},
   "outputs": [
    {
     "data": {
      "text/plain": [
       "['C:\\\\Users\\\\Roshan\\\\Desktop\\\\Sales_Pred\\\\Sales_Prediction\\\\models\\\\sc.sav']"
      ]
     },
     "execution_count": 63,
     "metadata": {},
     "output_type": "execute_result"
    }
   ],
   "source": [
    "joblib.dump(sc,r'C:\\Users\\Roshan\\Desktop\\Sales_Pred\\Sales_Prediction\\models\\sc.sav')\n",
    "\n"
   ]
  },
  {
   "cell_type": "markdown",
   "id": "d3b9b5d1",
   "metadata": {},
   "source": [
    "# Model Building"
   ]
  },
  {
   "cell_type": "code",
   "execution_count": 64,
   "id": "1241c6b6",
   "metadata": {},
   "outputs": [],
   "source": [
    "from sklearn.linear_model import LinearRegression\n",
    "lr= LinearRegression()"
   ]
  },
  {
   "cell_type": "code",
   "execution_count": 65,
   "id": "221ae317",
   "metadata": {},
   "outputs": [
    {
     "data": {
      "text/plain": [
       "LinearRegression()"
      ]
     },
     "execution_count": 65,
     "metadata": {},
     "output_type": "execute_result"
    }
   ],
   "source": [
    "lr.fit(X_train_std,Y_train)"
   ]
  },
  {
   "cell_type": "code",
   "execution_count": 66,
   "id": "cd85c61f",
   "metadata": {},
   "outputs": [
    {
     "data": {
      "text/html": [
       "<div>\n",
       "<style scoped>\n",
       "    .dataframe tbody tr th:only-of-type {\n",
       "        vertical-align: middle;\n",
       "    }\n",
       "\n",
       "    .dataframe tbody tr th {\n",
       "        vertical-align: top;\n",
       "    }\n",
       "\n",
       "    .dataframe thead th {\n",
       "        text-align: right;\n",
       "    }\n",
       "</style>\n",
       "<table border=\"1\" class=\"dataframe\">\n",
       "  <thead>\n",
       "    <tr style=\"text-align: right;\">\n",
       "      <th></th>\n",
       "      <th>item_weight</th>\n",
       "      <th>item_fat_content</th>\n",
       "      <th>item_visibility</th>\n",
       "      <th>item_type</th>\n",
       "      <th>item_mrp</th>\n",
       "      <th>outlet_establishment_year</th>\n",
       "      <th>outlet_size</th>\n",
       "      <th>outlet_location_type</th>\n",
       "      <th>outlet_type</th>\n",
       "    </tr>\n",
       "  </thead>\n",
       "  <tbody>\n",
       "    <tr>\n",
       "      <th>9389</th>\n",
       "      <td>7.42</td>\n",
       "      <td>2</td>\n",
       "      <td>0.02157</td>\n",
       "      <td>12</td>\n",
       "      <td>184.8582</td>\n",
       "      <td>2004</td>\n",
       "      <td>2</td>\n",
       "      <td>1</td>\n",
       "      <td>1</td>\n",
       "    </tr>\n",
       "    <tr>\n",
       "      <th>1218</th>\n",
       "      <td>14.8</td>\n",
       "      <td>1</td>\n",
       "      <td>0.044841</td>\n",
       "      <td>14</td>\n",
       "      <td>78.366997</td>\n",
       "      <td>1987</td>\n",
       "      <td>0</td>\n",
       "      <td>2</td>\n",
       "      <td>1</td>\n",
       "    </tr>\n",
       "    <tr>\n",
       "      <th>4594</th>\n",
       "      <td>12.882102</td>\n",
       "      <td>1</td>\n",
       "      <td>0.0</td>\n",
       "      <td>4</td>\n",
       "      <td>175.302795</td>\n",
       "      <td>1985</td>\n",
       "      <td>1</td>\n",
       "      <td>2</td>\n",
       "      <td>3</td>\n",
       "    </tr>\n",
       "    <tr>\n",
       "      <th>5021</th>\n",
       "      <td>7.64</td>\n",
       "      <td>2</td>\n",
       "      <td>0.070704</td>\n",
       "      <td>13</td>\n",
       "      <td>93.412003</td>\n",
       "      <td>1997</td>\n",
       "      <td>2</td>\n",
       "      <td>0</td>\n",
       "      <td>1</td>\n",
       "    </tr>\n",
       "    <tr>\n",
       "      <th>10981</th>\n",
       "      <td>13.0</td>\n",
       "      <td>2</td>\n",
       "      <td>0.083644</td>\n",
       "      <td>3</td>\n",
       "      <td>196.042603</td>\n",
       "      <td>1999</td>\n",
       "      <td>1</td>\n",
       "      <td>0</td>\n",
       "      <td>1</td>\n",
       "    </tr>\n",
       "  </tbody>\n",
       "</table>\n",
       "</div>"
      ],
      "text/plain": [
       "       item_weight  item_fat_content  item_visibility  item_type    item_mrp  \\\n",
       "9389          7.42                 2          0.02157         12    184.8582   \n",
       "1218          14.8                 1         0.044841         14   78.366997   \n",
       "4594     12.882102                 1              0.0          4  175.302795   \n",
       "5021          7.64                 2         0.070704         13   93.412003   \n",
       "10981         13.0                 2         0.083644          3  196.042603   \n",
       "\n",
       "       outlet_establishment_year  outlet_size  outlet_location_type  \\\n",
       "9389                        2004            2                     1   \n",
       "1218                        1987            0                     2   \n",
       "4594                        1985            1                     2   \n",
       "5021                        1997            2                     0   \n",
       "10981                       1999            1                     0   \n",
       "\n",
       "       outlet_type  \n",
       "9389             1  \n",
       "1218             1  \n",
       "4594             3  \n",
       "5021             1  \n",
       "10981            1  "
      ]
     },
     "execution_count": 66,
     "metadata": {},
     "output_type": "execute_result"
    }
   ],
   "source": [
    "X_test.head()"
   ]
  },
  {
   "cell_type": "code",
   "execution_count": 67,
   "id": "4eb788ec",
   "metadata": {},
   "outputs": [],
   "source": [
    "Y_pred_lr=lr.predict(X_test_std)"
   ]
  },
  {
   "cell_type": "code",
   "execution_count": 69,
   "id": "ddc33997",
   "metadata": {},
   "outputs": [],
   "source": [
    "from sklearn.metrics import r2_score, mean_absolute_error, mean_squared_error"
   ]
  },
  {
   "cell_type": "code",
   "execution_count": 70,
   "id": "988a9c25",
   "metadata": {},
   "outputs": [
    {
     "name": "stdout",
     "output_type": "stream",
     "text": [
      "0.5234227252930184\n",
      "895.3749474583171\n",
      "1197.2284168638912\n"
     ]
    },
    {
     "name": "stderr",
     "output_type": "stream",
     "text": [
      "C:\\ProgramData\\Anaconda3\\lib\\site-packages\\sklearn\\utils\\validation.py:63: FutureWarning: Arrays of bytes/strings is being converted to decimal numbers if dtype='numeric'. This behavior is deprecated in 0.24 and will be removed in 1.1 (renaming of 0.26). Please convert your data to numeric values explicitly instead.\n",
      "  return f(*args, **kwargs)\n",
      "C:\\ProgramData\\Anaconda3\\lib\\site-packages\\sklearn\\utils\\validation.py:63: FutureWarning: Arrays of bytes/strings is being converted to decimal numbers if dtype='numeric'. This behavior is deprecated in 0.24 and will be removed in 1.1 (renaming of 0.26). Please convert your data to numeric values explicitly instead.\n",
      "  return f(*args, **kwargs)\n",
      "C:\\ProgramData\\Anaconda3\\lib\\site-packages\\sklearn\\utils\\validation.py:63: FutureWarning: Arrays of bytes/strings is being converted to decimal numbers if dtype='numeric'. This behavior is deprecated in 0.24 and will be removed in 1.1 (renaming of 0.26). Please convert your data to numeric values explicitly instead.\n",
      "  return f(*args, **kwargs)\n"
     ]
    }
   ],
   "source": [
    "print(r2_score(Y_test,Y_pred_lr))\n",
    "print(mean_absolute_error(Y_test,Y_pred_lr))\n",
    "print(np.sqrt(mean_squared_error(Y_test,Y_pred_lr)))\n"
   ]
  },
  {
   "cell_type": "markdown",
   "id": "cadb6ffd",
   "metadata": {},
   "source": [
    "# Random Forest Regressor"
   ]
  },
  {
   "cell_type": "code",
   "execution_count": 71,
   "id": "baeb039c",
   "metadata": {},
   "outputs": [],
   "source": [
    "from sklearn.ensemble import RandomForestRegressor\n",
    "rf= RandomForestRegressor(n_estimators=1000)"
   ]
  },
  {
   "cell_type": "code",
   "execution_count": 75,
   "id": "24218bcd",
   "metadata": {},
   "outputs": [
    {
     "data": {
      "text/plain": [
       "RandomForestRegressor(n_estimators=1000)"
      ]
     },
     "execution_count": 75,
     "metadata": {},
     "output_type": "execute_result"
    }
   ],
   "source": [
    "rf.fit(X_train_std,Y_train)"
   ]
  },
  {
   "cell_type": "code",
   "execution_count": 81,
   "id": "70c9ed7c",
   "metadata": {},
   "outputs": [],
   "source": [
    "Y_pred_rf=rf.predict(X_test_std)"
   ]
  },
  {
   "cell_type": "code",
   "execution_count": 77,
   "id": "0156797b",
   "metadata": {},
   "outputs": [
    {
     "name": "stdout",
     "output_type": "stream",
     "text": [
      "0.7484969257110392\n",
      "546.3199747509422\n",
      "869.7250939333182\n"
     ]
    },
    {
     "name": "stderr",
     "output_type": "stream",
     "text": [
      "C:\\ProgramData\\Anaconda3\\lib\\site-packages\\sklearn\\utils\\validation.py:63: FutureWarning: Arrays of bytes/strings is being converted to decimal numbers if dtype='numeric'. This behavior is deprecated in 0.24 and will be removed in 1.1 (renaming of 0.26). Please convert your data to numeric values explicitly instead.\n",
      "  return f(*args, **kwargs)\n",
      "C:\\ProgramData\\Anaconda3\\lib\\site-packages\\sklearn\\utils\\validation.py:63: FutureWarning: Arrays of bytes/strings is being converted to decimal numbers if dtype='numeric'. This behavior is deprecated in 0.24 and will be removed in 1.1 (renaming of 0.26). Please convert your data to numeric values explicitly instead.\n",
      "  return f(*args, **kwargs)\n",
      "C:\\ProgramData\\Anaconda3\\lib\\site-packages\\sklearn\\utils\\validation.py:63: FutureWarning: Arrays of bytes/strings is being converted to decimal numbers if dtype='numeric'. This behavior is deprecated in 0.24 and will be removed in 1.1 (renaming of 0.26). Please convert your data to numeric values explicitly instead.\n",
      "  return f(*args, **kwargs)\n"
     ]
    }
   ],
   "source": [
    "print(r2_score(Y_test,Y_pred_rf))\n",
    "print(mean_absolute_error(Y_test,Y_pred_rf))\n",
    "print(np.sqrt(mean_squared_error(Y_test,Y_pred_rf)))\n"
   ]
  },
  {
   "cell_type": "code",
   "execution_count": 84,
   "id": "9d4025e6",
   "metadata": {},
   "outputs": [
    {
     "data": {
      "text/html": [
       "<div>\n",
       "<style scoped>\n",
       "    .dataframe tbody tr th:only-of-type {\n",
       "        vertical-align: middle;\n",
       "    }\n",
       "\n",
       "    .dataframe tbody tr th {\n",
       "        vertical-align: top;\n",
       "    }\n",
       "\n",
       "    .dataframe thead th {\n",
       "        text-align: right;\n",
       "    }\n",
       "</style>\n",
       "<table border=\"1\" class=\"dataframe\">\n",
       "  <thead>\n",
       "    <tr style=\"text-align: right;\">\n",
       "      <th></th>\n",
       "      <th>actual</th>\n",
       "      <th>Pred</th>\n",
       "    </tr>\n",
       "  </thead>\n",
       "  <tbody>\n",
       "    <tr>\n",
       "      <th>9389</th>\n",
       "      <td>4643.955078</td>\n",
       "      <td>4533.360981</td>\n",
       "    </tr>\n",
       "    <tr>\n",
       "      <th>1218</th>\n",
       "      <td>918.804016</td>\n",
       "      <td>1039.076118</td>\n",
       "    </tr>\n",
       "    <tr>\n",
       "      <th>4594</th>\n",
       "      <td>3719.158691</td>\n",
       "      <td>6133.690486</td>\n",
       "    </tr>\n",
       "    <tr>\n",
       "      <th>5021</th>\n",
       "      <td>1491.391968</td>\n",
       "      <td>1834.747045</td>\n",
       "    </tr>\n",
       "    <tr>\n",
       "      <th>10981</th>\n",
       "      <td>2570.653809</td>\n",
       "      <td>2747.470309</td>\n",
       "    </tr>\n",
       "  </tbody>\n",
       "</table>\n",
       "</div>"
      ],
      "text/plain": [
       "            actual         Pred\n",
       "9389   4643.955078  4533.360981\n",
       "1218    918.804016  1039.076118\n",
       "4594   3719.158691  6133.690486\n",
       "5021   1491.391968  1834.747045\n",
       "10981  2570.653809  2747.470309"
      ]
     },
     "execution_count": 84,
     "metadata": {},
     "output_type": "execute_result"
    }
   ],
   "source": [
    "result= pd.DataFrame({\"actual\":Y_test,\"Pred\":Y_pred_rf})\n",
    "result.head()"
   ]
  },
  {
   "cell_type": "code",
   "execution_count": 92,
   "id": "e25d7cbf",
   "metadata": {},
   "outputs": [
    {
     "data": {
      "text/plain": [
       "['C:\\\\Users\\\\Roshan\\\\Desktop\\\\Sales_Pred\\\\Sales_Prediction\\\\models\\\\rf.sav']"
      ]
     },
     "execution_count": 92,
     "metadata": {},
     "output_type": "execute_result"
    }
   ],
   "source": [
    "joblib.dump(rf,r'C:\\Users\\Roshan\\Desktop\\Sales_Pred\\Sales_Prediction\\models\\rf.sav')\n"
   ]
  },
  {
   "cell_type": "markdown",
   "id": "0046c4f3",
   "metadata": {},
   "source": [
    "# XGB Regression"
   ]
  },
  {
   "cell_type": "code",
   "execution_count": 110,
   "id": "8654e4f0",
   "metadata": {},
   "outputs": [
    {
     "name": "stderr",
     "output_type": "stream",
     "text": [
      "C:\\ProgramData\\Anaconda3\\lib\\site-packages\\sklearn\\utils\\validation.py:63: FutureWarning: Arrays of bytes/strings is being converted to decimal numbers if dtype='numeric'. This behavior is deprecated in 0.24 and will be removed in 1.1 (renaming of 0.26). Please convert your data to numeric values explicitly instead.\n",
      "  return f(*args, **kwargs)\n",
      "C:\\ProgramData\\Anaconda3\\lib\\site-packages\\sklearn\\utils\\validation.py:63: FutureWarning: Arrays of bytes/strings is being converted to decimal numbers if dtype='numeric'. This behavior is deprecated in 0.24 and will be removed in 1.1 (renaming of 0.26). Please convert your data to numeric values explicitly instead.\n",
      "  return f(*args, **kwargs)\n"
     ]
    },
    {
     "name": "stdout",
     "output_type": "stream",
     "text": [
      "score 0.6831605606087016\n",
      "rmse 976.1801445362996\n"
     ]
    },
    {
     "data": {
      "image/png": "[encoded data removed]",
      "text/plain": [
       "<Figure size 432x288 with 1 Axes>"
      ]
     },
     "metadata": {
      "needs_background": "light"
     },
     "output_type": "display_data"
    }
   ],
   "source": [
    "from xgboost import XGBRegressor\n",
    "\n",
    "xg_model= XGBRegressor()\n",
    "xg_model.fit(X_train_std,Y_train)\n",
    "score= xg_model.score(X_test_std,Y_test)\n",
    "print(\"score\", score)\n",
    "y_pred= xg_model.predict(X_test_std)\n",
    "rmse= np.sqrt(mean_squared_error(Y_test,y_pred))\n",
    "print(\"rmse\", rmse)\n",
    "plt.scatter(y_pred,Y_test)\n",
    "plt.show()\n"
   ]
  },
  {
   "cell_type": "code",
   "execution_count": 111,
   "id": "ac3f5b9c",
   "metadata": {},
   "outputs": [
    {
     "data": {
      "text/html": [
       "<div>\n",
       "<style scoped>\n",
       "    .dataframe tbody tr th:only-of-type {\n",
       "        vertical-align: middle;\n",
       "    }\n",
       "\n",
       "    .dataframe tbody tr th {\n",
       "        vertical-align: top;\n",
       "    }\n",
       "\n",
       "    .dataframe thead th {\n",
       "        text-align: right;\n",
       "    }\n",
       "</style>\n",
       "<table border=\"1\" class=\"dataframe\">\n",
       "  <thead>\n",
       "    <tr style=\"text-align: right;\">\n",
       "      <th></th>\n",
       "      <th>actual</th>\n",
       "      <th>Pred</th>\n",
       "    </tr>\n",
       "  </thead>\n",
       "  <tbody>\n",
       "    <tr>\n",
       "      <th>9389</th>\n",
       "      <td>4643.955078</td>\n",
       "      <td>4502.492188</td>\n",
       "    </tr>\n",
       "    <tr>\n",
       "      <th>1218</th>\n",
       "      <td>918.804016</td>\n",
       "      <td>1321.980957</td>\n",
       "    </tr>\n",
       "    <tr>\n",
       "      <th>4594</th>\n",
       "      <td>3719.158691</td>\n",
       "      <td>5854.777832</td>\n",
       "    </tr>\n",
       "    <tr>\n",
       "      <th>5021</th>\n",
       "      <td>1491.391968</td>\n",
       "      <td>1770.582397</td>\n",
       "    </tr>\n",
       "    <tr>\n",
       "      <th>10981</th>\n",
       "      <td>2570.653809</td>\n",
       "      <td>2944.307617</td>\n",
       "    </tr>\n",
       "  </tbody>\n",
       "</table>\n",
       "</div>"
      ],
      "text/plain": [
       "            actual         Pred\n",
       "9389   4643.955078  4502.492188\n",
       "1218    918.804016  1321.980957\n",
       "4594   3719.158691  5854.777832\n",
       "5021   1491.391968  1770.582397\n",
       "10981  2570.653809  2944.307617"
      ]
     },
     "execution_count": 111,
     "metadata": {},
     "output_type": "execute_result"
    }
   ],
   "source": [
    "result= pd.DataFrame({\"actual\":Y_test,\"Pred\":y_pred})\n",
    "result.head()"
   ]
  },
  {
   "cell_type": "markdown",
   "id": "c2f6bb00",
   "metadata": {},
   "source": [
    "# Hyper Parameter Tuning"
   ]
  },
  {
   "cell_type": "code",
   "execution_count": 100,
   "id": "718f8e31",
   "metadata": {},
   "outputs": [
    {
     "name": "stdout",
     "output_type": "stream",
     "text": [
      "Fitting 2 folds for each of 3 candidates, totalling 6 fits\n",
      "Best: 0.647 using {'n_estimators': 1000}\n",
      "0.614 (0.001) with: {'n_estimators': 10}\n",
      "0.642 (0.002) with: {'n_estimators': 100}\n",
      "0.647 (0.000) with: {'n_estimators': 1000}\n"
     ]
    }
   ],
   "source": [
    "from sklearn.model_selection import RepeatedStratifiedKFold\n",
    "from sklearn.model_selection import GridSearchCV\n",
    "\n",
    "# define models and parameters\n",
    "model = RandomForestRegressor()\n",
    "n_estimators = [10, 100, 1000]\n",
    "max_depth=range(1,31)\n",
    "min_samples_leaf=np.linspace(0.1, 1.0)\n",
    "max_features=[\"auto\", \"sqrt\", \"log2\"]\n",
    "min_samples_split=np.linspace(0.1, 1.0, 10)\n",
    "\n",
    "# define grid search\n",
    "grid = dict(n_estimators=n_estimators)\n",
    "\n",
    "#cv = RepeatedStratifiedKFold(n_splits=5, n_repeats=3, random_state=101)\n",
    "\n",
    "grid_search_forest = GridSearchCV(estimator=model, param_grid=grid, n_jobs=-1, \n",
    "                           scoring='r2',error_score=0,verbose=2,cv=2)\n",
    "\n",
    "grid_search_forest.fit(X_train_std, Y_train)\n",
    "\n",
    "# summarize results\n",
    "print(f\"Best: {grid_search_forest.best_score_:.3f} using {grid_search_forest.best_params_}\")\n",
    "means = grid_search_forest.cv_results_['mean_test_score']\n",
    "stds = grid_search_forest.cv_results_['std_test_score']\n",
    "params = grid_search_forest.cv_results_['params']\n",
    "\n",
    "for mean, stdev, param in zip(means, stds, params):\n",
    "    print(f\"{mean:.3f} ({stdev:.3f}) with: {param}\")\n"
   ]
  },
  {
   "cell_type": "code",
   "execution_count": 57,
   "id": "b882b2c5",
   "metadata": {},
   "outputs": [
    {
     "data": {
      "text/plain": [
       "{'n_estimators': 1000}"
      ]
     },
     "execution_count": 57,
     "metadata": {},
     "output_type": "execute_result"
    }
   ],
   "source": [
    "grid_search_forest.best_params_"
   ]
  },
  {
   "cell_type": "code",
   "execution_count": 58,
   "id": "14383924",
   "metadata": {},
   "outputs": [
    {
     "data": {
      "text/plain": [
       "0.6466687515754861"
      ]
     },
     "execution_count": 58,
     "metadata": {},
     "output_type": "execute_result"
    }
   ],
   "source": [
    "grid_search_forest.best_score_"
   ]
  },
  {
   "cell_type": "code",
   "execution_count": 59,
   "id": "894ad9fb",
   "metadata": {},
   "outputs": [],
   "source": [
    "Y_pred_rf_grid=grid_search_forest.predict(X_test_std)"
   ]
  },
  {
   "cell_type": "code",
   "execution_count": 60,
   "id": "f15f0cdc",
   "metadata": {},
   "outputs": [
    {
     "name": "stderr",
     "output_type": "stream",
     "text": [
      "C:\\ProgramData\\Anaconda3\\lib\\site-packages\\sklearn\\utils\\validation.py:63: FutureWarning: Arrays of bytes/strings is being converted to decimal numbers if dtype='numeric'. This behavior is deprecated in 0.24 and will be removed in 1.1 (renaming of 0.26). Please convert your data to numeric values explicitly instead.\n",
      "  return f(*args, **kwargs)\n"
     ]
    },
    {
     "data": {
      "text/plain": [
       "0.749398063595435"
      ]
     },
     "execution_count": 60,
     "metadata": {},
     "output_type": "execute_result"
    }
   ],
   "source": [
    "r2_score(Y_test,Y_pred_rf_grid)"
   ]
  },
  {
   "cell_type": "markdown",
   "id": "6fd78dd7",
   "metadata": {},
   "source": [
    "# Decision Tree"
   ]
  },
  {
   "cell_type": "code",
   "execution_count": 140,
   "id": "064445a9",
   "metadata": {},
   "outputs": [
    {
     "name": "stdout",
     "output_type": "stream",
     "text": [
      "0.5344022952767136\n"
     ]
    },
    {
     "name": "stderr",
     "output_type": "stream",
     "text": [
      "C:\\ProgramData\\Anaconda3\\lib\\site-packages\\sklearn\\utils\\validation.py:63: FutureWarning: Arrays of bytes/strings is being converted to decimal numbers if dtype='numeric'. This behavior is deprecated in 0.24 and will be removed in 1.1 (renaming of 0.26). Please convert your data to numeric values explicitly instead.\n",
      "  return f(*args, **kwargs)\n"
     ]
    }
   ],
   "source": [
    "from sklearn.tree import DecisionTreeRegressor\n",
    "tree_model= DecisionTreeRegressor()\n",
    "tree_model.fit(X_train_std,Y_train)\n",
    "score= tree_model.score(X_test_std,Y_test)\n",
    "print(score)"
   ]
  },
  {
   "cell_type": "code",
   "execution_count": null,
   "id": "ff9ca8fa",
   "metadata": {},
   "outputs": [],
   "source": []
  },
  {
   "cell_type": "markdown",
   "id": "efe1c35e",
   "metadata": {},
   "source": [
    "# ADA Gra"
   ]
  },
  {
   "cell_type": "code",
   "execution_count": 120,
   "id": "502e7e22",
   "metadata": {},
   "outputs": [
    {
     "name": "stderr",
     "output_type": "stream",
     "text": [
      "C:\\ProgramData\\Anaconda3\\lib\\site-packages\\sklearn\\utils\\validation.py:63: FutureWarning: Arrays of bytes/strings is being converted to decimal numbers if dtype='numeric'. This behavior is deprecated in 0.24 and will be removed in 1.1 (renaming of 0.26). Please convert your data to numeric values explicitly instead.\n",
      "  return f(*args, **kwargs)\n"
     ]
    },
    {
     "data": {
      "text/plain": [
       "0.5792145194024629"
      ]
     },
     "execution_count": 120,
     "metadata": {},
     "output_type": "execute_result"
    }
   ],
   "source": [
    "from sklearn.ensemble import AdaBoostRegressor\n",
    "\n",
    "ada_reg= AdaBoostRegressor(n_estimators=10,learning_rate=.3)\n",
    "ada_reg.fit(X_train_std,Y_train)\n",
    "ada_reg.score(X_test_std,Y_test)"
   ]
  },
  {
   "cell_type": "markdown",
   "id": "e2b7f2b1",
   "metadata": {},
   "source": [
    "# Save your model"
   ]
  },
  {
   "cell_type": "code",
   "execution_count": 95,
   "id": "b3ac1d9c",
   "metadata": {},
   "outputs": [],
   "source": [
    "import joblib"
   ]
  },
  {
   "cell_type": "code",
   "execution_count": 101,
   "id": "84e83d71",
   "metadata": {},
   "outputs": [
    {
     "data": {
      "text/plain": [
       "['C:\\\\Users\\\\Roshan\\\\Desktop\\\\Sales_Pred\\\\Sales_Prediction\\\\models\\\\random_forest_grid.sav']"
      ]
     },
     "execution_count": 101,
     "metadata": {},
     "output_type": "execute_result"
    }
   ],
   "source": [
    "joblib.dump(grid_search_forest,r'C:\\Users\\Roshan\\Desktop\\Sales_Pred\\Sales_Prediction\\models\\random_forest_grid.sav')"
   ]
  },
  {
   "cell_type": "code",
   "execution_count": null,
   "id": "c1fd3f9f",
   "metadata": {},
   "outputs": [],
   "source": []
  },
  {
   "cell_type": "code",
   "execution_count": 89,
   "id": "5621ce88",
   "metadata": {},
   "outputs": [],
   "source": [
    "model=joblib.load(r'C:\\Users\\Roshan\\Desktop\\Re_Prediction\\models\\random_forest_grid.sav')"
   ]
  },
  {
   "cell_type": "code",
   "execution_count": null,
   "id": "e5e4caa8",
   "metadata": {},
   "outputs": [],
   "source": []
  }
 ],
 "metadata": {
  "kernelspec": {
   "display_name": "Python 3 (ipykernel)",
   "language": "python",
   "name": "python3"
  },
  "language_info": {
   "codemirror_mode": {
    "name": "ipython",
    "version": 3
   },
   "file_extension": ".py",
   "mimetype": "text/x-python",
   "name": "python",
   "nbconvert_exporter": "python",
   "pygments_lexer": "ipython3",
   "version": "3.9.7"
  }
 },
 "nbformat": 4,
 "nbformat_minor": 5
}
